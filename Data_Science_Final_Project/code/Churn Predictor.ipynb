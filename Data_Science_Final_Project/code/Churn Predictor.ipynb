{
 "cells": [
  {
   "cell_type": "markdown",
   "metadata": {},
   "source": [
    "## Supervised Learning: Churn Predictor"
   ]
  },
  {
   "cell_type": "markdown",
   "metadata": {},
   "source": [
    "#query used\n",
    "select*\n",
    "from OpenQuery(YodleDB, 'with cohort as (\t\t\t\n",
    "\t\tselect*\n",
    "\t\tfrom (\t\t\n",
    "\t\t\tselect c.id as client_id \t\n",
    "\t\t\t, contractlength\t\n",
    "\t\t\t, c.adstationmonthlybudget as budget\n",
    "\t\t\t, c.status\n",
    "\t\t\t, movetolivedate::date as first_livedate\n",
    "\t\t\t, deactivationdate::date as last_offdate\n",
    "\t\t\t, case when c.status=''LIVE'' then 0 else 1 end as churned\n",
    "\t\t\t, case when status=''LIVE'' then current_date- movetolivedate::date\n",
    "\t\t  \t\t  when status=''OFF'' then deactivationdate::date - movetolivedate::date end as days_live \t\t\n",
    "\t\t\tfrom control.client c \t\n",
    "\t\t\tjoin control.segment seg on seg.id=c.segment_id \t\n",
    "\t\t\tjoin control.milestonedates md on md.client_id=c.id\n",
    "\t\t\tjoin \n",
    "\t\t\t\t(select client_id from analytics.client_product_status where product=''SEM'') sem on sem.client_id=c.id \n",
    "\t\t\tleft join \n",
    "\t\t\t\t(select client_id from analytics.client_product_status where product=''LIGHTHOUSE'') lh on lh.client_id=c.id  \t\n",
    "\t\t\tleft join \t\n",
    "\t\t\t\t(select client_id\n",
    "\t\t\t\tfrom control.testgroup tg \n",
    "\t\t\t\tjoin control.testgroup_adconfiguration tgac on tgac.testgroup_id=tg.id \n",
    "\t\t\t\tjoin control.adconfiguration ac on ac.id=tgac.adconfiguration_id \n",
    "\t\t\t\tjoin control.adconfigurable af on af.id=ac.adconfigurable_id \n",
    "\t\t\t\twhere tg.id=142\n",
    "\t\t\t\t) tg on tg.client_id=c.id \n",
    "\t\t\twhere 1=1 \t\n",
    "\t\t\tand md.movetolivedate>=current_date - interval ''3 years'' \n",
    "\t\t\tand nationalaccount=''false'' \t\n",
    "\t\t\tand oemaccountparent_id is null \t\n",
    "\t\t\tand tg.client_id is null \t\n",
    "\t\t\tand c.status in (''LIVE'',''OFF'')\n",
    "\t\t\tand lh.client_id is null\n",
    "\t\t\tand (md.deactivationdate is null or md.deactivationdate>md.movetolivedate)\n",
    "\t\t\t--and c.id=175908\n",
    "\t\t\t) x\n",
    "\t\torder by status\n",
    "\t\tlimit 10000\n",
    "\t\t),\n",
    "\tlogins as (\t\t\t\n",
    "\t\tselect u.client_id\t\t\t\t\n",
    "\t\t, count(*) as logins_30days \t\n",
    "\t\tfrom cohort c \t\t\n",
    "\t\tjoin authentication.users u on u.client_id=c.client_id \t\t\n",
    "\t\tjoin control.user_sessions ss on ss.user_id=u.id \t\t\n",
    "\t\twhere 1=1\t\t\n",
    "\t\tand u.dtype=''ClientUser''  \n",
    "\t\tand ((c.status=''LIVE'' and ss.timestamp>=current_date-interval ''30 days'' and ss.timestamp<current_date) \n",
    "\t\t     or (c.status=''OFF'' and ss.timestamp>=c.last_offdate - interval ''30 days'' and ss.timestamp<c.last_offdate))\t\n",
    "\t\tand ss.timestamp>=current_date - interval ''3 years''\n",
    "\t\tgroup by u.client_id  \t\t\n",
    "\t\t),\t\t\n",
    "\tleads as (\t\t\t\n",
    "\t\tselect l.client_id\t\t\n",
    "\t\t, count(*) as leads_30days \t\n",
    "\t\tfrom cohort c \t\n",
    "\t\tjoin control.lead l on l.client_id=c.client_id  \t\t\n",
    "\t\twhere ((c.status=''LIVE'' and l.createddate>=current_date-interval ''30 days'' and l.createddate<current_date)\n",
    "\t\t\tor (c.status=''OFF'' and l.createddate>=c.last_offdate - interval ''30 days'' and l.createddate<c.last_offdate))\n",
    "\t\tand l.createddate>=current_date-interval ''3 years''\n",
    "\t\tgroup by l.client_id\t\t\n",
    "\t\t),\t\t\n",
    "\tspend as (\t\t\t\n",
    "\t\tselect s.client_id\t\t\n",
    "\t\t, sum(amount) as spend_30days \t\t\n",
    "\t\tfrom cohort c \t\t\n",
    "\t\tjoin analytics.spend s on s.client_id=c.client_id \t\t\n",
    "\t\twhere type=''Withdrawal'' and subtype in (''Provider Costs'',''JAG Costs'') \n",
    "\t\tand ((c.status=''LIVE'' and s.transdate>=current_date-interval ''30 days'' and s.transdate<current_date)\n",
    "\t\t\tor (c.status=''OFF'' and s.transdate>=c.last_offdate - interval ''30 days'' and s.transdate<c.last_offdate)) \t\n",
    "\t\tand transdate>=current_date-interval ''3 years''\t\t\n",
    "\t\tgroup by s.client_id\t\t\n",
    "\t\t),\t\t\n",
    "\tinvoices as \n",
    "\t\t(select ce.client_id \n",
    "\t\t, sum(ili.amount) as invoices_30days \t\n",
    "\t\tfrom control.invoice i   \n",
    "\t\tjoin control.invoicetransaction it on it.invoice_id=i.id  \n",
    "\t\tjoin control.invoicelineitem ili on ili.invoice_id=i.id and ili.transaction_id=it.id  \n",
    "\t\tjoin control.chargeableentity ce on ce.id=i.chargeableentity_id   \t\t\n",
    "\t\tjoin cohort c on c.client_id=ce.client_id\n",
    "\t\twhere i.status in (''PAID'',''REFUNDED'') \n",
    "\t\tand ((c.status=''LIVE'' and it.transdate>=current_date-interval ''30 days'' and it.transdate<current_date)\n",
    "\t\t\tor (c.status=''OFF'' and it.transdate>=c.last_offdate - interval ''30 days'' and it.transdate<c.last_offdate))\n",
    "\t\tand transdate>=current_date-interval ''3 years''\n",
    "\t\tgroup by ce.client_id \n",
    "\t\t) \n",
    "\tselect c.client_id\t\t\t\n",
    "\t, churned\n",
    "\t, days_live\n",
    "\t, coalesce(logins_30days,0) as logins_30days\n",
    "\t, coalesce(leads_30days,0) as leads_30days\n",
    "\t, coalesce(spend_30days,0) as spend_30days\t\n",
    "\t, coalesce(invoices_30days,0) as invoices_30days\n",
    "\tfrom cohort c\t\t\t\n",
    "\t--join days_live dl on dl.client_id=c.client_id\n",
    "\tleft join logins ss on ss.client_id=c.client_id\t\t\t\n",
    "\tleft join leads l on l.client_id=c.client_id\t\t\t\n",
    "\tleft join spend s on s.client_id=c.client_id\n",
    "\tleft join invoices i on i.client_id=c.client_id\n",
    "\t') x"
   ]
  },
  {
   "cell_type": "code",
   "execution_count": 1,
   "metadata": {
    "collapsed": false
   },
   "outputs": [],
   "source": [
    "import pandas as pd\n",
    "#import numpy as np\n",
    "\n",
    "#import pylab as pl\n",
    "#import statsmodels.formula.api as smf\n",
    "#import statsm  odels.api as sm\n",
    "#from sklearn.cross_validation import KFold\n",
    "#from sklearn.linear_model import LogisticRegression\n",
    "#from sklearn.grid_search import GridSearchCV\n",
    "\n",
    "#from sklearn.metrics import roc_curve, roc_auc_score\n",
    "#from sklearn.cross_validation import cross_val_score\n",
    "\n",
    "%matplotlib inline "
   ]
  },
  {
   "cell_type": "markdown",
   "metadata": {},
   "source": [
    "# Load and Prepare Dataset"
   ]
  },
  {
   "cell_type": "code",
   "execution_count": 2,
   "metadata": {
    "collapsed": false
   },
   "outputs": [],
   "source": [
    "df_raw = pd.read_csv(\"../assets/churn_dataset.csv\")"
   ]
  },
  {
   "cell_type": "code",
   "execution_count": 3,
   "metadata": {
    "collapsed": false
   },
   "outputs": [
    {
     "data": {
      "text/html": [
       "<div>\n",
       "<table border=\"1\" class=\"dataframe\">\n",
       "  <thead>\n",
       "    <tr style=\"text-align: right;\">\n",
       "      <th></th>\n",
       "      <th>client_id</th>\n",
       "      <th>churned</th>\n",
       "      <th>days_live</th>\n",
       "      <th>logins_30days</th>\n",
       "      <th>leads_30days</th>\n",
       "      <th>spend_30days</th>\n",
       "      <th>invoices_30days</th>\n",
       "    </tr>\n",
       "  </thead>\n",
       "  <tbody>\n",
       "    <tr>\n",
       "      <th>0</th>\n",
       "      <td>980</td>\n",
       "      <td>1</td>\n",
       "      <td>7</td>\n",
       "      <td>0</td>\n",
       "      <td>9</td>\n",
       "      <td>0.0</td>\n",
       "      <td>0.0</td>\n",
       "    </tr>\n",
       "    <tr>\n",
       "      <th>1</th>\n",
       "      <td>3471</td>\n",
       "      <td>1</td>\n",
       "      <td>153</td>\n",
       "      <td>0</td>\n",
       "      <td>1</td>\n",
       "      <td>0.0</td>\n",
       "      <td>0.0</td>\n",
       "    </tr>\n",
       "    <tr>\n",
       "      <th>2</th>\n",
       "      <td>4864</td>\n",
       "      <td>1</td>\n",
       "      <td>61</td>\n",
       "      <td>0</td>\n",
       "      <td>8</td>\n",
       "      <td>0.0</td>\n",
       "      <td>49.0</td>\n",
       "    </tr>\n",
       "    <tr>\n",
       "      <th>3</th>\n",
       "      <td>5938</td>\n",
       "      <td>1</td>\n",
       "      <td>0</td>\n",
       "      <td>0</td>\n",
       "      <td>5</td>\n",
       "      <td>0.0</td>\n",
       "      <td>0.0</td>\n",
       "    </tr>\n",
       "    <tr>\n",
       "      <th>4</th>\n",
       "      <td>10403</td>\n",
       "      <td>1</td>\n",
       "      <td>31</td>\n",
       "      <td>0</td>\n",
       "      <td>0</td>\n",
       "      <td>0.0</td>\n",
       "      <td>0.0</td>\n",
       "    </tr>\n",
       "  </tbody>\n",
       "</table>\n",
       "</div>"
      ],
      "text/plain": [
       "   client_id  churned  days_live  logins_30days  leads_30days  spend_30days  \\\n",
       "0        980        1          7              0             9           0.0   \n",
       "1       3471        1        153              0             1           0.0   \n",
       "2       4864        1         61              0             8           0.0   \n",
       "3       5938        1          0              0             5           0.0   \n",
       "4      10403        1         31              0             0           0.0   \n",
       "\n",
       "   invoices_30days  \n",
       "0              0.0  \n",
       "1              0.0  \n",
       "2             49.0  \n",
       "3              0.0  \n",
       "4              0.0  "
      ]
     },
     "execution_count": 3,
     "metadata": {},
     "output_type": "execute_result"
    }
   ],
   "source": [
    "df_raw.head()"
   ]
  },
  {
   "cell_type": "code",
   "execution_count": 4,
   "metadata": {
    "collapsed": false
   },
   "outputs": [
    {
     "data": {
      "text/plain": [
       "(10000, 7)"
      ]
     },
     "execution_count": 4,
     "metadata": {},
     "output_type": "execute_result"
    }
   ],
   "source": [
    "df_raw.shape"
   ]
  },
  {
   "cell_type": "code",
   "execution_count": 5,
   "metadata": {
    "collapsed": false
   },
   "outputs": [],
   "source": [
    "cols_to_remove = [\"client_id\"]\n",
    "\n",
    "df = df_raw[[c for c in df_raw.columns if c not in cols_to_remove]]\n",
    "\n",
    "df.columns = [x.lower() for x in df.columns]"
   ]
  },
  {
   "cell_type": "code",
   "execution_count": 6,
   "metadata": {
    "collapsed": false
   },
   "outputs": [
    {
     "data": {
      "text/html": [
       "<div>\n",
       "<table border=\"1\" class=\"dataframe\">\n",
       "  <thead>\n",
       "    <tr style=\"text-align: right;\">\n",
       "      <th></th>\n",
       "      <th>churned</th>\n",
       "      <th>days_live</th>\n",
       "      <th>logins_30days</th>\n",
       "      <th>leads_30days</th>\n",
       "      <th>spend_30days</th>\n",
       "      <th>invoices_30days</th>\n",
       "    </tr>\n",
       "  </thead>\n",
       "  <tbody>\n",
       "    <tr>\n",
       "      <th>0</th>\n",
       "      <td>1</td>\n",
       "      <td>7</td>\n",
       "      <td>0</td>\n",
       "      <td>9</td>\n",
       "      <td>0.0</td>\n",
       "      <td>0.0</td>\n",
       "    </tr>\n",
       "    <tr>\n",
       "      <th>1</th>\n",
       "      <td>1</td>\n",
       "      <td>153</td>\n",
       "      <td>0</td>\n",
       "      <td>1</td>\n",
       "      <td>0.0</td>\n",
       "      <td>0.0</td>\n",
       "    </tr>\n",
       "    <tr>\n",
       "      <th>2</th>\n",
       "      <td>1</td>\n",
       "      <td>61</td>\n",
       "      <td>0</td>\n",
       "      <td>8</td>\n",
       "      <td>0.0</td>\n",
       "      <td>49.0</td>\n",
       "    </tr>\n",
       "    <tr>\n",
       "      <th>3</th>\n",
       "      <td>1</td>\n",
       "      <td>0</td>\n",
       "      <td>0</td>\n",
       "      <td>5</td>\n",
       "      <td>0.0</td>\n",
       "      <td>0.0</td>\n",
       "    </tr>\n",
       "    <tr>\n",
       "      <th>4</th>\n",
       "      <td>1</td>\n",
       "      <td>31</td>\n",
       "      <td>0</td>\n",
       "      <td>0</td>\n",
       "      <td>0.0</td>\n",
       "      <td>0.0</td>\n",
       "    </tr>\n",
       "  </tbody>\n",
       "</table>\n",
       "</div>"
      ],
      "text/plain": [
       "   churned  days_live  logins_30days  leads_30days  spend_30days  \\\n",
       "0        1          7              0             9           0.0   \n",
       "1        1        153              0             1           0.0   \n",
       "2        1         61              0             8           0.0   \n",
       "3        1          0              0             5           0.0   \n",
       "4        1         31              0             0           0.0   \n",
       "\n",
       "   invoices_30days  \n",
       "0              0.0  \n",
       "1              0.0  \n",
       "2             49.0  \n",
       "3              0.0  \n",
       "4              0.0  "
      ]
     },
     "execution_count": 6,
     "metadata": {},
     "output_type": "execute_result"
    }
   ],
   "source": [
    "df.head()"
   ]
  },
  {
   "cell_type": "code",
   "execution_count": 7,
   "metadata": {
    "collapsed": false
   },
   "outputs": [
    {
     "name": "stdout",
     "output_type": "stream",
     "text": [
      "('churned', 0)\n",
      "('days_live', 0)\n",
      "('logins_30days', 0)\n",
      "('leads_30days', 0)\n",
      "('spend_30days', 0)\n",
      "('invoices_30days', 0)\n"
     ]
    }
   ],
   "source": [
    "for c in df.columns:\n",
    "    print(c, len(df[df[c].isnull()]))"
   ]
  },
  {
   "cell_type": "code",
   "execution_count": 8,
   "metadata": {
    "collapsed": false
   },
   "outputs": [
    {
     "data": {
      "text/plain": [
       "churned              int64\n",
       "days_live            int64\n",
       "logins_30days        int64\n",
       "leads_30days         int64\n",
       "spend_30days       float64\n",
       "invoices_30days    float64\n",
       "dtype: object"
      ]
     },
     "execution_count": 8,
     "metadata": {},
     "output_type": "execute_result"
    }
   ],
   "source": [
    "df.dtypes"
   ]
  },
  {
   "cell_type": "code",
   "execution_count": 9,
   "metadata": {
    "collapsed": false
   },
   "outputs": [
    {
     "name": "stdout",
     "output_type": "stream",
     "text": [
      "churned            10000\n",
      "days_live          10000\n",
      "logins_30days      10000\n",
      "leads_30days       10000\n",
      "spend_30days       10000\n",
      "invoices_30days    10000\n",
      "dtype: int64\n"
     ]
    }
   ],
   "source": [
    "df = df.dropna() \n",
    "print df.count()"
   ]
  },
  {
   "cell_type": "code",
   "execution_count": 10,
   "metadata": {
    "collapsed": false
   },
   "outputs": [
    {
     "name": "stdout",
     "output_type": "stream",
     "text": [
      "(10000, 6)\n"
     ]
    },
    {
     "data": {
      "text/html": [
       "<div>\n",
       "<table border=\"1\" class=\"dataframe\">\n",
       "  <thead>\n",
       "    <tr style=\"text-align: right;\">\n",
       "      <th></th>\n",
       "      <th>churned</th>\n",
       "      <th>days_live</th>\n",
       "      <th>logins_30days</th>\n",
       "      <th>leads_30days</th>\n",
       "      <th>spend_30days</th>\n",
       "      <th>invoices_30days</th>\n",
       "    </tr>\n",
       "  </thead>\n",
       "  <tbody>\n",
       "    <tr>\n",
       "      <th>count</th>\n",
       "      <td>10000.000000</td>\n",
       "      <td>10000.000000</td>\n",
       "      <td>10000.000000</td>\n",
       "      <td>10000.000000</td>\n",
       "      <td>10000.000000</td>\n",
       "      <td>10000.000000</td>\n",
       "    </tr>\n",
       "    <tr>\n",
       "      <th>mean</th>\n",
       "      <td>0.503200</td>\n",
       "      <td>325.213400</td>\n",
       "      <td>23.338700</td>\n",
       "      <td>30.198100</td>\n",
       "      <td>272.502793</td>\n",
       "      <td>356.560297</td>\n",
       "    </tr>\n",
       "    <tr>\n",
       "      <th>std</th>\n",
       "      <td>0.500015</td>\n",
       "      <td>305.025301</td>\n",
       "      <td>1516.279725</td>\n",
       "      <td>72.984531</td>\n",
       "      <td>595.996663</td>\n",
       "      <td>1023.388609</td>\n",
       "    </tr>\n",
       "    <tr>\n",
       "      <th>min</th>\n",
       "      <td>0.000000</td>\n",
       "      <td>0.000000</td>\n",
       "      <td>0.000000</td>\n",
       "      <td>0.000000</td>\n",
       "      <td>0.000000</td>\n",
       "      <td>-11641.970000</td>\n",
       "    </tr>\n",
       "    <tr>\n",
       "      <th>25%</th>\n",
       "      <td>0.000000</td>\n",
       "      <td>106.000000</td>\n",
       "      <td>0.000000</td>\n",
       "      <td>4.000000</td>\n",
       "      <td>0.000000</td>\n",
       "      <td>0.000000</td>\n",
       "    </tr>\n",
       "    <tr>\n",
       "      <th>50%</th>\n",
       "      <td>1.000000</td>\n",
       "      <td>182.000000</td>\n",
       "      <td>0.000000</td>\n",
       "      <td>12.000000</td>\n",
       "      <td>85.490000</td>\n",
       "      <td>19.000000</td>\n",
       "    </tr>\n",
       "    <tr>\n",
       "      <th>75%</th>\n",
       "      <td>1.000000</td>\n",
       "      <td>499.250000</td>\n",
       "      <td>1.000000</td>\n",
       "      <td>30.000000</td>\n",
       "      <td>387.377500</td>\n",
       "      <td>500.000000</td>\n",
       "    </tr>\n",
       "    <tr>\n",
       "      <th>max</th>\n",
       "      <td>1.000000</td>\n",
       "      <td>1095.000000</td>\n",
       "      <td>110381.000000</td>\n",
       "      <td>3742.000000</td>\n",
       "      <td>39279.520000</td>\n",
       "      <td>48372.570000</td>\n",
       "    </tr>\n",
       "  </tbody>\n",
       "</table>\n",
       "</div>"
      ],
      "text/plain": [
       "            churned     days_live  logins_30days  leads_30days  spend_30days  \\\n",
       "count  10000.000000  10000.000000   10000.000000  10000.000000  10000.000000   \n",
       "mean       0.503200    325.213400      23.338700     30.198100    272.502793   \n",
       "std        0.500015    305.025301    1516.279725     72.984531    595.996663   \n",
       "min        0.000000      0.000000       0.000000      0.000000      0.000000   \n",
       "25%        0.000000    106.000000       0.000000      4.000000      0.000000   \n",
       "50%        1.000000    182.000000       0.000000     12.000000     85.490000   \n",
       "75%        1.000000    499.250000       1.000000     30.000000    387.377500   \n",
       "max        1.000000   1095.000000  110381.000000   3742.000000  39279.520000   \n",
       "\n",
       "       invoices_30days  \n",
       "count     10000.000000  \n",
       "mean        356.560297  \n",
       "std        1023.388609  \n",
       "min      -11641.970000  \n",
       "25%           0.000000  \n",
       "50%          19.000000  \n",
       "75%         500.000000  \n",
       "max       48372.570000  "
      ]
     },
     "execution_count": 10,
     "metadata": {},
     "output_type": "execute_result"
    }
   ],
   "source": [
    "print df.shape\n",
    "df.describe()"
   ]
  },
  {
   "cell_type": "markdown",
   "metadata": {},
   "source": [
    "# Exploratory Data Analysis"
   ]
  },
  {
   "cell_type": "markdown",
   "metadata": {},
   "source": [
    "### Plots"
   ]
  },
  {
   "cell_type": "code",
   "execution_count": 11,
   "metadata": {
    "collapsed": false
   },
   "outputs": [
    {
     "data": {
      "text/plain": [
       "1    5032\n",
       "0    4968\n",
       "Name: churned, dtype: int64"
      ]
     },
     "execution_count": 11,
     "metadata": {},
     "output_type": "execute_result"
    }
   ],
   "source": [
    "df.churned.value_counts()"
   ]
  },
  {
   "cell_type": "code",
   "execution_count": 12,
   "metadata": {
    "collapsed": false
   },
   "outputs": [
    {
     "data": {
      "text/plain": [
       "<matplotlib.axes._subplots.AxesSubplot at 0x115d8ba90>"
      ]
     },
     "execution_count": 12,
     "metadata": {},
     "output_type": "execute_result"
    },
    {
     "data": {
      "image/png": "[encoded data removed]",
      "text/plain": [
       "<matplotlib.figure.Figure at 0x115d8b110>"
      ]
     },
     "metadata": {},
     "output_type": "display_data"
    }
   ],
   "source": [
    "# LIVE and OFF counts in cohort are equal\n",
    "import seaborn as sns\n",
    "\n",
    "df.churned.value_counts().plot(kind='bar', title =\"Churned Count\")"
   ]
  },
  {
   "cell_type": "code",
   "execution_count": 13,
   "metadata": {
    "collapsed": false
   },
   "outputs": [
    {
     "data": {
      "text/plain": [
       "(-1, 3)"
      ]
     },
     "execution_count": 13,
     "metadata": {},
     "output_type": "execute_result"
    },
    {
     "data": {
      "image/png": "[encoded data removed]",
      "text/plain": [
       "<matplotlib.figure.Figure at 0x118241c10>"
      ]
     },
     "metadata": {},
     "output_type": "display_data"
    }
   ],
   "source": [
    "import matplotlib.pyplot as plt\n",
    "\n",
    "fig, axs = plt.subplots(1, 2, figsize=(10, 6))\n",
    "\n",
    "df.leads_30days.plot(kind=\"box\", ax=axs[0])\n",
    "axs[0].set_ylim([-1, 80])\n",
    "\n",
    "df.logins_30days.plot(kind=\"box\", ax=axs[1])\n",
    "axs[1].set_ylim([-1, 3])"
   ]
  },
  {
   "cell_type": "code",
   "execution_count": 14,
   "metadata": {
    "collapsed": false
   },
   "outputs": [
    {
     "data": {
      "text/html": [
       "<div>\n",
       "<table border=\"1\" class=\"dataframe\">\n",
       "  <thead>\n",
       "    <tr style=\"text-align: right;\">\n",
       "      <th></th>\n",
       "      <th>churned</th>\n",
       "      <th>days_live</th>\n",
       "      <th>logins_30days</th>\n",
       "      <th>leads_30days</th>\n",
       "      <th>spend_30days</th>\n",
       "      <th>invoices_30days</th>\n",
       "    </tr>\n",
       "  </thead>\n",
       "  <tbody>\n",
       "    <tr>\n",
       "      <th>churned</th>\n",
       "      <td>1.000000</td>\n",
       "      <td>-0.418269</td>\n",
       "      <td>-0.000959</td>\n",
       "      <td>-0.188735</td>\n",
       "      <td>-0.161058</td>\n",
       "      <td>-0.300105</td>\n",
       "    </tr>\n",
       "    <tr>\n",
       "      <th>days_live</th>\n",
       "      <td>-0.418269</td>\n",
       "      <td>1.000000</td>\n",
       "      <td>-0.013067</td>\n",
       "      <td>0.161892</td>\n",
       "      <td>-0.026066</td>\n",
       "      <td>-0.026667</td>\n",
       "    </tr>\n",
       "    <tr>\n",
       "      <th>logins_30days</th>\n",
       "      <td>-0.000959</td>\n",
       "      <td>-0.013067</td>\n",
       "      <td>1.000000</td>\n",
       "      <td>0.002188</td>\n",
       "      <td>-0.006087</td>\n",
       "      <td>-0.004444</td>\n",
       "    </tr>\n",
       "    <tr>\n",
       "      <th>leads_30days</th>\n",
       "      <td>-0.188735</td>\n",
       "      <td>0.161892</td>\n",
       "      <td>0.002188</td>\n",
       "      <td>1.000000</td>\n",
       "      <td>0.198993</td>\n",
       "      <td>0.123642</td>\n",
       "    </tr>\n",
       "    <tr>\n",
       "      <th>spend_30days</th>\n",
       "      <td>-0.161058</td>\n",
       "      <td>-0.026066</td>\n",
       "      <td>-0.006087</td>\n",
       "      <td>0.198993</td>\n",
       "      <td>1.000000</td>\n",
       "      <td>0.592614</td>\n",
       "    </tr>\n",
       "    <tr>\n",
       "      <th>invoices_30days</th>\n",
       "      <td>-0.300105</td>\n",
       "      <td>-0.026667</td>\n",
       "      <td>-0.004444</td>\n",
       "      <td>0.123642</td>\n",
       "      <td>0.592614</td>\n",
       "      <td>1.000000</td>\n",
       "    </tr>\n",
       "  </tbody>\n",
       "</table>\n",
       "</div>"
      ],
      "text/plain": [
       "                  churned  days_live  logins_30days  leads_30days  \\\n",
       "churned          1.000000  -0.418269      -0.000959     -0.188735   \n",
       "days_live       -0.418269   1.000000      -0.013067      0.161892   \n",
       "logins_30days   -0.000959  -0.013067       1.000000      0.002188   \n",
       "leads_30days    -0.188735   0.161892       0.002188      1.000000   \n",
       "spend_30days    -0.161058  -0.026066      -0.006087      0.198993   \n",
       "invoices_30days -0.300105  -0.026667      -0.004444      0.123642   \n",
       "\n",
       "                 spend_30days  invoices_30days  \n",
       "churned             -0.161058        -0.300105  \n",
       "days_live           -0.026066        -0.026667  \n",
       "logins_30days       -0.006087        -0.004444  \n",
       "leads_30days         0.198993         0.123642  \n",
       "spend_30days         1.000000         0.592614  \n",
       "invoices_30days      0.592614         1.000000  "
      ]
     },
     "execution_count": 14,
     "metadata": {},
     "output_type": "execute_result"
    },
    {
     "data": {
      "image/png": "[encoded data removed]",
      "text/plain": [
       "<matplotlib.figure.Figure at 0x1182c7690>"
      ]
     },
     "metadata": {},
     "output_type": "display_data"
    }
   ],
   "source": [
    "sns.heatmap(df.corr())\n",
    "df.corr()"
   ]
  },
  {
   "cell_type": "code",
   "execution_count": 15,
   "metadata": {
    "collapsed": false
   },
   "outputs": [
    {
     "data": {
      "image/png": "[encoded data removed]",
      "text/plain": [
       "<matplotlib.figure.Figure at 0x118ae6710>"
      ]
     },
     "metadata": {},
     "output_type": "display_data"
    }
   ],
   "source": [
    "pd.scatter_matrix(df[['leads_30days','spend_30days','logins_30days','churned']], figsize=(10,8))\n",
    "plt.show()"
   ]
  },
  {
   "cell_type": "markdown",
   "metadata": {},
   "source": [
    "# Lesson 5 - Model Evaluation"
   ]
  },
  {
   "cell_type": "markdown",
   "metadata": {},
   "source": [
    "## Evaluation procedure #1: Train and test on the entire dataset\n",
    "\n",
    "Train on the entire dataset and testing on the same dataset. Then comparing the predicted response values with the true response values."
   ]
  },
  {
   "cell_type": "code",
   "execution_count": 16,
   "metadata": {
    "collapsed": false
   },
   "outputs": [],
   "source": [
    "# define x and y\n",
    "feature_cols = ['leads_30days','invoices_30days','spend_30days','logins_30days','days_live']\n",
    "\n",
    "X = df[feature_cols]\n",
    "y = df.churned"
   ]
  },
  {
   "cell_type": "code",
   "execution_count": 17,
   "metadata": {
    "collapsed": false
   },
   "outputs": [
    {
     "data": {
      "text/plain": [
       "array([1, 1, 1, ..., 1, 1, 1])"
      ]
     },
     "execution_count": 17,
     "metadata": {},
     "output_type": "execute_result"
    }
   ],
   "source": [
    "#import the class\n",
    "from sklearn.linear_model import LogisticRegression\n",
    "\n",
    "#instantiate the model \n",
    "logreg = LogisticRegression()\n",
    "\n",
    "#fit the model with data\n",
    "logreg.fit(X,y)\n",
    "\n",
    "#predict the response values for observations in X\n",
    "logreg.predict(X)"
   ]
  },
  {
   "cell_type": "code",
   "execution_count": 18,
   "metadata": {
    "collapsed": false
   },
   "outputs": [
    {
     "data": {
      "text/plain": [
       "10000"
      ]
     },
     "execution_count": 18,
     "metadata": {},
     "output_type": "execute_result"
    }
   ],
   "source": [
    "#store predicted response values\n",
    "y_pred = logreg.predict(X)\n",
    "\n",
    "#check how many predictions were generated\n",
    "len(y_pred)"
   ]
  },
  {
   "cell_type": "code",
   "execution_count": 19,
   "metadata": {
    "collapsed": false
   },
   "outputs": [
    {
     "name": "stdout",
     "output_type": "stream",
     "text": [
      "0.7984\n"
     ]
    }
   ],
   "source": [
    "#compute classification accuracy for the logistic regression model; training accuracy. About 80% of the predictions were correct. \n",
    "from sklearn import metrics\n",
    "print metrics.accuracy_score(y, y_pred)"
   ]
  },
  {
   "cell_type": "markdown",
   "metadata": {},
   "source": [
    "### KNN (K=5)"
   ]
  },
  {
   "cell_type": "code",
   "execution_count": 20,
   "metadata": {
    "collapsed": false
   },
   "outputs": [
    {
     "name": "stdout",
     "output_type": "stream",
     "text": [
      "0.9001\n"
     ]
    }
   ],
   "source": [
    "from sklearn.neighbors import KNeighborsClassifier\n",
    "\n",
    "knn = KNeighborsClassifier(n_neighbors=5)\n",
    "knn.fit(X, y)\n",
    "y_pred = knn.predict(X)\n",
    "print(metrics.accuracy_score(y, y_pred))"
   ]
  },
  {
   "cell_type": "markdown",
   "metadata": {},
   "source": [
    "### KNN (K=1)"
   ]
  },
  {
   "cell_type": "code",
   "execution_count": 21,
   "metadata": {
    "collapsed": false
   },
   "outputs": [
    {
     "name": "stdout",
     "output_type": "stream",
     "text": [
      "0.996\n"
     ]
    }
   ],
   "source": [
    "knn = KNeighborsClassifier(n_neighbors=1)\n",
    "knn.fit(X, y)\n",
    "y_pred = knn.predict(X)\n",
    "print(metrics.accuracy_score(y, y_pred))"
   ]
  },
  {
   "cell_type": "markdown",
   "metadata": {},
   "source": [
    "Although K=1 has a better accuracy, this doesn't mean this is better. KNN looks for the nearest observation and uses it as the predicted response value for the unknown observation. Therefore, K=1 will most likely always be near 1. It has memorized the training set and we're testing on the same data. Therefore, this is not a useful procedure to choosing what model to choose. Our goal is to estimate likely performance of a model on out-of-sample data. Maximizing training accuracy rewards overly complex models that won't necessarily generalize which overfit the training data. Lower value of K will learn the noise in the data, instead of the signal."
   ]
  },
  {
   "cell_type": "markdown",
   "metadata": {},
   "source": [
    "## Evaluation procedure #2: Train/test split"
   ]
  },
  {
   "cell_type": "code",
   "execution_count": 22,
   "metadata": {
    "collapsed": false
   },
   "outputs": [
    {
     "name": "stdout",
     "output_type": "stream",
     "text": [
      "(10000, 5)\n",
      "(10000,)\n"
     ]
    }
   ],
   "source": [
    "print X.shape\n",
    "print y.shape"
   ]
  },
  {
   "cell_type": "code",
   "execution_count": 23,
   "metadata": {
    "collapsed": true
   },
   "outputs": [],
   "source": [
    "# step 1: split into X and y training and testing sets\n",
    "from sklearn.cross_validation import train_test_split\n",
    "X_train, X_test, y_train, y_test = train_test_split(X, y, test_size = 0.4, random_state = 4)"
   ]
  },
  {
   "cell_type": "code",
   "execution_count": 24,
   "metadata": {
    "collapsed": false
   },
   "outputs": [
    {
     "name": "stdout",
     "output_type": "stream",
     "text": [
      "X_train shape\n",
      "(6000, 5)\n",
      "\n",
      "X_test shape\n",
      "(4000, 5)\n",
      "\n",
      "Y train shape\n",
      "(6000,)\n",
      "\n",
      "Y test shape\n",
      "(4000,)\n"
     ]
    }
   ],
   "source": [
    "# print the shapes of new X and y objects\n",
    "print \"X_train shape\"\n",
    "print X_train.shape\n",
    "print \"\"\n",
    "print \"X_test shape\"\n",
    "print X_test.shape\n",
    "print \"\"\n",
    "print \"Y train shape\"\n",
    "print y_train.shape\n",
    "print \"\"\n",
    "print \"Y test shape\"\n",
    "print y_test.shape"
   ]
  },
  {
   "cell_type": "code",
   "execution_count": 25,
   "metadata": {
    "collapsed": false
   },
   "outputs": [
    {
     "data": {
      "text/plain": [
       "LogisticRegression(C=1.0, class_weight=None, dual=False, fit_intercept=True,\n",
       "          intercept_scaling=1, max_iter=100, multi_class='ovr', n_jobs=1,\n",
       "          penalty='l2', random_state=None, solver='liblinear', tol=0.0001,\n",
       "          verbose=0, warm_start=False)"
      ]
     },
     "execution_count": 25,
     "metadata": {},
     "output_type": "execute_result"
    }
   ],
   "source": [
    "#step 2: train the model on the training set\n",
    "logreg = LogisticRegression()\n",
    "logreg.fit(X_train, y_train)"
   ]
  },
  {
   "cell_type": "code",
   "execution_count": 26,
   "metadata": {
    "collapsed": false
   },
   "outputs": [
    {
     "name": "stdout",
     "output_type": "stream",
     "text": [
      "0.79575\n"
     ]
    }
   ],
   "source": [
    "# step 3: make predictions on the training set\n",
    "y_pred = logreg.predict(X_test)\n",
    "\n",
    "# compare actual response values (y_test) with predicted response values (y_pred)\n",
    "print metrics.accuracy_score(y_test, y_pred)"
   ]
  },
  {
   "cell_type": "markdown",
   "metadata": {},
   "source": [
    "### Repeat with KNN=5"
   ]
  },
  {
   "cell_type": "code",
   "execution_count": 27,
   "metadata": {
    "collapsed": false
   },
   "outputs": [
    {
     "name": "stdout",
     "output_type": "stream",
     "text": [
      "0.87\n"
     ]
    }
   ],
   "source": [
    "knn = KNeighborsClassifier(n_neighbors=5)\n",
    "knn.fit(X_train, y_train)\n",
    "y_pred = knn.predict(X_test)\n",
    "print metrics.accuracy_score(y_test, y_pred)"
   ]
  },
  {
   "cell_type": "markdown",
   "metadata": {},
   "source": [
    "### Repeat with KNN=1"
   ]
  },
  {
   "cell_type": "code",
   "execution_count": 28,
   "metadata": {
    "collapsed": false
   },
   "outputs": [
    {
     "name": "stdout",
     "output_type": "stream",
     "text": [
      "0.8385\n"
     ]
    }
   ],
   "source": [
    "knn = KNeighborsClassifier(n_neighbors=1)\n",
    "knn.fit(X_train, y_train)\n",
    "y_pred = knn.predict(X_test)\n",
    "print metrics.accuracy_score(y_test, y_pred)"
   ]
  },
  {
   "cell_type": "markdown",
   "metadata": {},
   "source": [
    "## Can we find a better value for K?"
   ]
  },
  {
   "cell_type": "code",
   "execution_count": 29,
   "metadata": {
    "collapsed": true
   },
   "outputs": [],
   "source": [
    "#try k=1 through k=15 and record testing accuracy\n",
    "k_range = range(1,15)\n",
    "scores=[]\n",
    "for k in k_range: \n",
    "    knn = KNeighborsClassifier(n_neighbors=k)\n",
    "    knn.fit(X_train, y_train)\n",
    "    y_pred = knn.predict(X_test)\n",
    "    scores.append(metrics.accuracy_score(y_test, y_pred))"
   ]
  },
  {
   "cell_type": "code",
   "execution_count": 30,
   "metadata": {
    "collapsed": false
   },
   "outputs": [
    {
     "data": {
      "text/plain": [
       "<matplotlib.text.Text at 0x11a9423d0>"
      ]
     },
     "execution_count": 30,
     "metadata": {},
     "output_type": "execute_result"
    },
    {
     "data": {
      "image/png": "[encoded data removed]",
      "text/plain": [
       "<matplotlib.figure.Figure at 0x11a27ed50>"
      ]
     },
     "metadata": {},
     "output_type": "display_data"
    }
   ],
   "source": [
    "import matplotlib.pyplot as plt\n",
    "%matplotlib inline \n",
    "\n",
    "# plot relationship between K and testing accuracy\n",
    "plt.plot(k_range, scores)\n",
    "plt.xlabel(\"Value for K for KNN\")\n",
    "plt.ylabel(\"Testing Accuracy\")"
   ]
  },
  {
   "cell_type": "markdown",
   "metadata": {},
   "source": [
    " - Training accuracy rises as model complexity increases\n",
    " - Testing accuracy penalizes models that are too complex or not complex enough\n",
    " - In KNN, a lower value of K means more complexity\n"
   ]
  },
  {
   "cell_type": "markdown",
   "metadata": {},
   "source": [
    "## Making predictions on out-of-sample data"
   ]
  },
  {
   "cell_type": "code",
   "execution_count": 31,
   "metadata": {
    "collapsed": false
   },
   "outputs": [
    {
     "name": "stderr",
     "output_type": "stream",
     "text": [
      "/Users/csiu87/anaconda/lib/python2.7/site-packages/sklearn/utils/validation.py:386: DeprecationWarning: Passing 1d arrays as data is deprecated in 0.17 and willraise ValueError in 0.19. Reshape your data either using X.reshape(-1, 1) if your data has a single feature or X.reshape(1, -1) if it contains a single sample.\n",
      "  DeprecationWarning)\n"
     ]
    },
    {
     "data": {
      "text/plain": [
       "array([1])"
      ]
     },
     "execution_count": 31,
     "metadata": {},
     "output_type": "execute_result"
    }
   ],
   "source": [
    "knn = KNeighborsClassifier(n_neighbors = 5)\n",
    "knn.fit(X, y)\n",
    "knn.predict([3, 100, 30, 3, 68])"
   ]
  },
  {
   "cell_type": "markdown",
   "metadata": {},
   "source": [
    "End of lesson 5"
   ]
  },
  {
   "cell_type": "markdown",
   "metadata": {},
   "source": [
    "# Lesson 7: Cross validation"
   ]
  },
  {
   "cell_type": "code",
   "execution_count": 32,
   "metadata": {
    "collapsed": true
   },
   "outputs": [],
   "source": [
    "from sklearn.cross_validation import cross_val_score"
   ]
  },
  {
   "cell_type": "code",
   "execution_count": 33,
   "metadata": {
    "collapsed": true
   },
   "outputs": [],
   "source": [
    "feature_cols = ['leads_30days','invoices_30days','spend_30days','logins_30days','days_live']"
   ]
  },
  {
   "cell_type": "code",
   "execution_count": 34,
   "metadata": {
    "collapsed": false
   },
   "outputs": [],
   "source": [
    "X = df[feature_cols]\n",
    "y = df.churned"
   ]
  },
  {
   "cell_type": "code",
   "execution_count": 35,
   "metadata": {
    "collapsed": false
   },
   "outputs": [
    {
     "name": "stdout",
     "output_type": "stream",
     "text": [
      "[ 0.87612388  0.83816184  0.757       0.787       0.782       0.734       0.76\n",
      "  0.741       0.8038038   0.61661662]\n"
     ]
    }
   ],
   "source": [
    "# 10-fold cross validation with K=5 for KNN \n",
    "knn = KNeighborsClassifier(n_neighbors=10)\n",
    "scores = cross_val_score(knn, X, y, cv=10, scoring='accuracy')\n",
    "print scores"
   ]
  },
  {
   "cell_type": "code",
   "execution_count": 36,
   "metadata": {
    "collapsed": false
   },
   "outputs": [
    {
     "name": "stdout",
     "output_type": "stream",
     "text": [
      "0.769570613471\n"
     ]
    }
   ],
   "source": [
    "#use average accuracy as an estimate of out-of-sample accuracy\n",
    "print scores.mean()"
   ]
  },
  {
   "cell_type": "code",
   "execution_count": 37,
   "metadata": {
    "collapsed": false
   },
   "outputs": [
    {
     "name": "stdout",
     "output_type": "stream",
     "text": [
      "[0.69568487418487412, 0.71978958188958186, 0.72977979207979204, 0.74677919987919983, 0.74667699987699998, 0.75827830377830385, 0.75397780227780231, 0.75857790277790271, 0.75627810277810281, 0.76957061347061351, 0.76477220887220887, 0.77766381906381921, 0.77766381906381921, 0.78226482086482085, 0.78156482066482069, 0.78466572256572253, 0.78436562266562271, 0.78436512296512295, 0.78316562286562275, 0.7828667223667225, 0.78136722246722257, 0.78306652396652399, 0.78256702406702405, 0.78056752296752296, 0.78316702386702397, 0.78286692336692343, 0.78316632356632354, 0.78226692316692303, 0.78306752316752315, 0.7832671231671231]\n"
     ]
    }
   ],
   "source": [
    "#search for an optimal value of K for KNN\n",
    "k_range = list(range(1, 31))\n",
    "k_scores = []\n",
    "for k in k_range: \n",
    "    knn = KNeighborsClassifier(n_neighbors = k)\n",
    "    scores = cross_val_score(knn, X, y, cv=10, scoring='accuracy')\n",
    "    k_scores.append(scores.mean())\n",
    "print k_scores"
   ]
  },
  {
   "cell_type": "code",
   "execution_count": 38,
   "metadata": {
    "collapsed": false
   },
   "outputs": [
    {
     "data": {
      "text/plain": [
       "<matplotlib.text.Text at 0x119945390>"
      ]
     },
     "execution_count": 38,
     "metadata": {},
     "output_type": "execute_result"
    },
    {
     "data": {
      "image/png": "[encoded data removed]",
      "text/plain": [
       "<matplotlib.figure.Figure at 0x11a963550>"
      ]
     },
     "metadata": {},
     "output_type": "display_data"
    }
   ],
   "source": [
    "#plot the value of K for KNN versus the cross-validated accuracy\n",
    "plt.plot(k_range, k_scores)\n",
    "plt.xlabel('Value for K for KNN')\n",
    "plt.ylabel('Cross-Validated Accuracy')"
   ]
  },
  {
   "cell_type": "code",
   "execution_count": 39,
   "metadata": {
    "collapsed": false
   },
   "outputs": [
    {
     "name": "stdout",
     "output_type": "stream",
     "text": [
      "0.784665722566\n"
     ]
    }
   ],
   "source": [
    "# 10-fold cross- validation with the best KNN model \n",
    "knn = KNeighborsClassifier(n_neighbors=16)\n",
    "print cross_val_score(knn, X, y, cv=10, scoring='accuracy').mean()"
   ]
  },
  {
   "cell_type": "code",
   "execution_count": 40,
   "metadata": {
    "collapsed": false
   },
   "outputs": [
    {
     "name": "stdout",
     "output_type": "stream",
     "text": [
      "0.790946321546\n"
     ]
    }
   ],
   "source": [
    "# 10 fold cross-validation with Logistic Regression\n",
    "from sklearn.linear_model import LogisticRegression\n",
    "logreg = LogisticRegression()\n",
    "print cross_val_score(logreg, X, y, cv=10, scoring='accuracy').mean()"
   ]
  },
  {
   "cell_type": "markdown",
   "metadata": {},
   "source": [
    "End of lesson 7"
   ]
  },
  {
   "cell_type": "markdown",
   "metadata": {},
   "source": [
    "# Lesson 8: GridSearchCV"
   ]
  },
  {
   "cell_type": "code",
   "execution_count": 41,
   "metadata": {
    "collapsed": true
   },
   "outputs": [],
   "source": [
    "from sklearn.grid_search import GridSearchCV"
   ]
  },
  {
   "cell_type": "code",
   "execution_count": 42,
   "metadata": {
    "collapsed": false
   },
   "outputs": [],
   "source": [
    "# define x and y\n",
    "feature_cols = ['leads_30days','invoices_30days','spend_30days','logins_30days','days_live']\n",
    "\n",
    "X = df[feature_cols]\n",
    "y = df.churned"
   ]
  },
  {
   "cell_type": "code",
   "execution_count": 43,
   "metadata": {
    "collapsed": false
   },
   "outputs": [
    {
     "name": "stdout",
     "output_type": "stream",
     "text": [
      "[1, 2, 3, 4, 5, 6, 7, 8, 9, 10, 11, 12, 13, 14, 15, 16, 17, 18, 19, 20, 21, 22, 23, 24, 25, 26, 27, 28, 29, 30]\n"
     ]
    }
   ],
   "source": [
    "# define parameter that should be searched\n",
    "k_range = range(1,31)\n",
    "print k_range"
   ]
  },
  {
   "cell_type": "code",
   "execution_count": 44,
   "metadata": {
    "collapsed": false
   },
   "outputs": [
    {
     "name": "stdout",
     "output_type": "stream",
     "text": [
      "{'n_neighbors': [1, 2, 3, 4, 5, 6, 7, 8, 9, 10, 11, 12, 13, 14, 15, 16, 17, 18, 19, 20, 21, 22, 23, 24, 25, 26, 27, 28, 29, 30]}\n"
     ]
    }
   ],
   "source": [
    "#create a parameter grid; map the parameter names to the values that should be searched\n",
    "param_grid = dict(n_neighbors = k_range)\n",
    "print param_grid"
   ]
  },
  {
   "cell_type": "code",
   "execution_count": 45,
   "metadata": {
    "collapsed": false
   },
   "outputs": [],
   "source": [
    "grid = GridSearchCV(knn, param_grid, cv=10, scoring='accuracy')"
   ]
  },
  {
   "cell_type": "code",
   "execution_count": 46,
   "metadata": {
    "collapsed": false
   },
   "outputs": [
    {
     "data": {
      "text/plain": [
       "GridSearchCV(cv=10, error_score='raise',\n",
       "       estimator=KNeighborsClassifier(algorithm='auto', leaf_size=30, metric='minkowski',\n",
       "           metric_params=None, n_jobs=1, n_neighbors=16, p=2,\n",
       "           weights='uniform'),\n",
       "       fit_params={}, iid=True, n_jobs=1,\n",
       "       param_grid={'n_neighbors': [1, 2, 3, 4, 5, 6, 7, 8, 9, 10, 11, 12, 13, 14, 15, 16, 17, 18, 19, 20, 21, 22, 23, 24, 25, 26, 27, 28, 29, 30]},\n",
       "       pre_dispatch='2*n_jobs', refit=True, scoring='accuracy', verbose=0)"
      ]
     },
     "execution_count": 46,
     "metadata": {},
     "output_type": "execute_result"
    }
   ],
   "source": [
    "grid.fit(X,y)"
   ]
  },
  {
   "cell_type": "code",
   "execution_count": 47,
   "metadata": {
    "collapsed": false
   },
   "outputs": [
    {
     "data": {
      "text/plain": [
       "[mean: 0.69570, std: 0.05098, params: {'n_neighbors': 1},\n",
       " mean: 0.71980, std: 0.04467, params: {'n_neighbors': 2},\n",
       " mean: 0.72980, std: 0.05782, params: {'n_neighbors': 3},\n",
       " mean: 0.74680, std: 0.05577, params: {'n_neighbors': 4},\n",
       " mean: 0.74670, std: 0.05920, params: {'n_neighbors': 5},\n",
       " mean: 0.75830, std: 0.05610, params: {'n_neighbors': 6},\n",
       " mean: 0.75400, std: 0.05949, params: {'n_neighbors': 7},\n",
       " mean: 0.75860, std: 0.05611, params: {'n_neighbors': 8},\n",
       " mean: 0.75630, std: 0.05814, params: {'n_neighbors': 9},\n",
       " mean: 0.76960, std: 0.06589, params: {'n_neighbors': 10},\n",
       " mean: 0.76480, std: 0.06445, params: {'n_neighbors': 11},\n",
       " mean: 0.77770, std: 0.07458, params: {'n_neighbors': 12},\n",
       " mean: 0.77770, std: 0.07473, params: {'n_neighbors': 13},\n",
       " mean: 0.78230, std: 0.07360, params: {'n_neighbors': 14},\n",
       " mean: 0.78160, std: 0.07435, params: {'n_neighbors': 15},\n",
       " mean: 0.78470, std: 0.07245, params: {'n_neighbors': 16},\n",
       " mean: 0.78440, std: 0.07303, params: {'n_neighbors': 17},\n",
       " mean: 0.78440, std: 0.07369, params: {'n_neighbors': 18},\n",
       " mean: 0.78320, std: 0.07304, params: {'n_neighbors': 19},\n",
       " mean: 0.78290, std: 0.07230, params: {'n_neighbors': 20},\n",
       " mean: 0.78140, std: 0.07145, params: {'n_neighbors': 21},\n",
       " mean: 0.78310, std: 0.07246, params: {'n_neighbors': 22},\n",
       " mean: 0.78260, std: 0.07251, params: {'n_neighbors': 23},\n",
       " mean: 0.78060, std: 0.07150, params: {'n_neighbors': 24},\n",
       " mean: 0.78320, std: 0.07196, params: {'n_neighbors': 25},\n",
       " mean: 0.78290, std: 0.07140, params: {'n_neighbors': 26},\n",
       " mean: 0.78320, std: 0.07272, params: {'n_neighbors': 27},\n",
       " mean: 0.78230, std: 0.07186, params: {'n_neighbors': 28},\n",
       " mean: 0.78310, std: 0.07118, params: {'n_neighbors': 29},\n",
       " mean: 0.78330, std: 0.07093, params: {'n_neighbors': 30}]"
      ]
     },
     "execution_count": 47,
     "metadata": {},
     "output_type": "execute_result"
    }
   ],
   "source": [
    "#view results\n",
    "grid.grid_scores_"
   ]
  },
  {
   "cell_type": "code",
   "execution_count": 48,
   "metadata": {
    "collapsed": false
   },
   "outputs": [
    {
     "name": "stdout",
     "output_type": "stream",
     "text": [
      "{'n_neighbors': 1}\n",
      "[ 0.69030969  0.75624376  0.752       0.748       0.708       0.691       0.678\n",
      "  0.638       0.71071071  0.58458458]\n",
      "0.6957\n"
     ]
    }
   ],
   "source": [
    "#examine the first type\n",
    "print grid.grid_scores_[0].parameters\n",
    "print grid.grid_scores_[0].cv_validation_scores\n",
    "print grid.grid_scores_[0].mean_validation_score"
   ]
  },
  {
   "cell_type": "code",
   "execution_count": 49,
   "metadata": {
    "collapsed": false
   },
   "outputs": [
    {
     "name": "stdout",
     "output_type": "stream",
     "text": [
      "[0.69569999999999999, 0.7198, 0.7298, 0.74680000000000002, 0.74670000000000003, 0.75829999999999997, 0.754, 0.75860000000000005, 0.75629999999999997, 0.76959999999999995, 0.76480000000000004, 0.77769999999999995, 0.77769999999999995, 0.7823, 0.78159999999999996, 0.78469999999999995, 0.78439999999999999, 0.78439999999999999, 0.78320000000000001, 0.78290000000000004, 0.78139999999999998, 0.78310000000000002, 0.78259999999999996, 0.78059999999999996, 0.78320000000000001, 0.78290000000000004, 0.78320000000000001, 0.7823, 0.78310000000000002, 0.7833]\n"
     ]
    }
   ],
   "source": [
    "#list of mean scores only\n",
    "grid_mean_scores = [result.mean_validation_score for result in grid.grid_scores_]\n",
    "print grid_mean_scores"
   ]
  },
  {
   "cell_type": "code",
   "execution_count": 50,
   "metadata": {
    "collapsed": false
   },
   "outputs": [
    {
     "data": {
      "text/plain": [
       "<matplotlib.text.Text at 0x119863110>"
      ]
     },
     "execution_count": 50,
     "metadata": {},
     "output_type": "execute_result"
    },
    {
     "data": {
      "image/png": "[encoded data removed]",
      "text/plain": [
       "<matplotlib.figure.Figure at 0x119b17150>"
      ]
     },
     "metadata": {},
     "output_type": "display_data"
    }
   ],
   "source": [
    "#plot results\n",
    "plt.plot(k_range, grid_mean_scores)\n",
    "plt.xlabel('Value of K for KNN')\n",
    "plt.ylabel('Cross-Validated Accuracy')"
   ]
  },
  {
   "cell_type": "code",
   "execution_count": 51,
   "metadata": {
    "collapsed": false
   },
   "outputs": [
    {
     "name": "stdout",
     "output_type": "stream",
     "text": [
      "0.7847\n",
      "{'n_neighbors': 16}\n",
      "KNeighborsClassifier(algorithm='auto', leaf_size=30, metric='minkowski',\n",
      "           metric_params=None, n_jobs=1, n_neighbors=16, p=2,\n",
      "           weights='uniform')\n"
     ]
    }
   ],
   "source": [
    "# examine the best model\n",
    "print grid.best_score_\n",
    "print grid.best_params_\n",
    "print grid.best_estimator_"
   ]
  },
  {
   "cell_type": "markdown",
   "metadata": {},
   "source": [
    "## Searching multiple parameters simultaneously"
   ]
  },
  {
   "cell_type": "code",
   "execution_count": 52,
   "metadata": {
    "collapsed": true
   },
   "outputs": [],
   "source": [
    "#define parameter values that should be searched\n",
    "k_range = list(range(1, 31))\n",
    "weight_options = ['uniform', 'distance']"
   ]
  },
  {
   "cell_type": "code",
   "execution_count": 53,
   "metadata": {
    "collapsed": false
   },
   "outputs": [
    {
     "name": "stdout",
     "output_type": "stream",
     "text": [
      "{'n_neighbors': [1, 2, 3, 4, 5, 6, 7, 8, 9, 10, 11, 12, 13, 14, 15, 16, 17, 18, 19, 20, 21, 22, 23, 24, 25, 26, 27, 28, 29, 30], 'weights': ['uniform', 'distance']}\n"
     ]
    }
   ],
   "source": [
    "# create a parameter grid: map the parameter names to the values that should be searched\n",
    "param_grid = dict(n_neighbors = k_range, weights=weight_options)\n",
    "print param_grid"
   ]
  },
  {
   "cell_type": "code",
   "execution_count": 54,
   "metadata": {
    "collapsed": false
   },
   "outputs": [
    {
     "data": {
      "text/plain": [
       "GridSearchCV(cv=10, error_score='raise',\n",
       "       estimator=KNeighborsClassifier(algorithm='auto', leaf_size=30, metric='minkowski',\n",
       "           metric_params=None, n_jobs=1, n_neighbors=16, p=2,\n",
       "           weights='uniform'),\n",
       "       fit_params={}, iid=True, n_jobs=1,\n",
       "       param_grid={'n_neighbors': [1, 2, 3, 4, 5, 6, 7, 8, 9, 10, 11, 12, 13, 14, 15, 16, 17, 18, 19, 20, 21, 22, 23, 24, 25, 26, 27, 28, 29, 30], 'weights': ['uniform', 'distance']},\n",
       "       pre_dispatch='2*n_jobs', refit=True, scoring='accuracy', verbose=0)"
      ]
     },
     "execution_count": 54,
     "metadata": {},
     "output_type": "execute_result"
    }
   ],
   "source": [
    "grid = GridSearchCV(knn, param_grid, cv=10, scoring='accuracy')\n",
    "grid.fit(X,y)"
   ]
  },
  {
   "cell_type": "code",
   "execution_count": 55,
   "metadata": {
    "collapsed": false
   },
   "outputs": [
    {
     "data": {
      "text/plain": [
       "[mean: 0.69570, std: 0.05098, params: {'n_neighbors': 1, 'weights': 'uniform'},\n",
       " mean: 0.69570, std: 0.05098, params: {'n_neighbors': 1, 'weights': 'distance'},\n",
       " mean: 0.71980, std: 0.04467, params: {'n_neighbors': 2, 'weights': 'uniform'},\n",
       " mean: 0.69290, std: 0.05127, params: {'n_neighbors': 2, 'weights': 'distance'},\n",
       " mean: 0.72980, std: 0.05782, params: {'n_neighbors': 3, 'weights': 'uniform'},\n",
       " mean: 0.72390, std: 0.05567, params: {'n_neighbors': 3, 'weights': 'distance'},\n",
       " mean: 0.74680, std: 0.05577, params: {'n_neighbors': 4, 'weights': 'uniform'},\n",
       " mean: 0.72790, std: 0.05570, params: {'n_neighbors': 4, 'weights': 'distance'},\n",
       " mean: 0.74670, std: 0.05920, params: {'n_neighbors': 5, 'weights': 'uniform'},\n",
       " mean: 0.74120, std: 0.05726, params: {'n_neighbors': 5, 'weights': 'distance'},\n",
       " mean: 0.75830, std: 0.05610, params: {'n_neighbors': 6, 'weights': 'uniform'},\n",
       " mean: 0.74280, std: 0.05823, params: {'n_neighbors': 6, 'weights': 'distance'},\n",
       " mean: 0.75400, std: 0.05949, params: {'n_neighbors': 7, 'weights': 'uniform'},\n",
       " mean: 0.74890, std: 0.05672, params: {'n_neighbors': 7, 'weights': 'distance'},\n",
       " mean: 0.75860, std: 0.05611, params: {'n_neighbors': 8, 'weights': 'uniform'},\n",
       " mean: 0.74840, std: 0.05624, params: {'n_neighbors': 8, 'weights': 'distance'},\n",
       " mean: 0.75630, std: 0.05814, params: {'n_neighbors': 9, 'weights': 'uniform'},\n",
       " mean: 0.75150, std: 0.05661, params: {'n_neighbors': 9, 'weights': 'distance'},\n",
       " mean: 0.76960, std: 0.06589, params: {'n_neighbors': 10, 'weights': 'uniform'},\n",
       " mean: 0.75010, std: 0.05612, params: {'n_neighbors': 10, 'weights': 'distance'},\n",
       " mean: 0.76480, std: 0.06445, params: {'n_neighbors': 11, 'weights': 'uniform'},\n",
       " mean: 0.75200, std: 0.05592, params: {'n_neighbors': 11, 'weights': 'distance'},\n",
       " mean: 0.77770, std: 0.07458, params: {'n_neighbors': 12, 'weights': 'uniform'},\n",
       " mean: 0.75350, std: 0.05489, params: {'n_neighbors': 12, 'weights': 'distance'},\n",
       " mean: 0.77770, std: 0.07473, params: {'n_neighbors': 13, 'weights': 'uniform'},\n",
       " mean: 0.75720, std: 0.05669, params: {'n_neighbors': 13, 'weights': 'distance'},\n",
       " mean: 0.78230, std: 0.07360, params: {'n_neighbors': 14, 'weights': 'uniform'},\n",
       " mean: 0.75900, std: 0.05638, params: {'n_neighbors': 14, 'weights': 'distance'},\n",
       " mean: 0.78160, std: 0.07435, params: {'n_neighbors': 15, 'weights': 'uniform'},\n",
       " mean: 0.76350, std: 0.05773, params: {'n_neighbors': 15, 'weights': 'distance'},\n",
       " mean: 0.78470, std: 0.07245, params: {'n_neighbors': 16, 'weights': 'uniform'},\n",
       " mean: 0.76560, std: 0.05906, params: {'n_neighbors': 16, 'weights': 'distance'},\n",
       " mean: 0.78440, std: 0.07303, params: {'n_neighbors': 17, 'weights': 'uniform'},\n",
       " mean: 0.76930, std: 0.06215, params: {'n_neighbors': 17, 'weights': 'distance'},\n",
       " mean: 0.78440, std: 0.07369, params: {'n_neighbors': 18, 'weights': 'uniform'},\n",
       " mean: 0.77400, std: 0.06622, params: {'n_neighbors': 18, 'weights': 'distance'},\n",
       " mean: 0.78320, std: 0.07304, params: {'n_neighbors': 19, 'weights': 'uniform'},\n",
       " mean: 0.77640, std: 0.06982, params: {'n_neighbors': 19, 'weights': 'distance'},\n",
       " mean: 0.78290, std: 0.07230, params: {'n_neighbors': 20, 'weights': 'uniform'},\n",
       " mean: 0.77780, std: 0.06831, params: {'n_neighbors': 20, 'weights': 'distance'},\n",
       " mean: 0.78140, std: 0.07145, params: {'n_neighbors': 21, 'weights': 'uniform'},\n",
       " mean: 0.77860, std: 0.06954, params: {'n_neighbors': 21, 'weights': 'distance'},\n",
       " mean: 0.78310, std: 0.07246, params: {'n_neighbors': 22, 'weights': 'uniform'},\n",
       " mean: 0.77910, std: 0.06949, params: {'n_neighbors': 22, 'weights': 'distance'},\n",
       " mean: 0.78260, std: 0.07251, params: {'n_neighbors': 23, 'weights': 'uniform'},\n",
       " mean: 0.77990, std: 0.07071, params: {'n_neighbors': 23, 'weights': 'distance'},\n",
       " mean: 0.78060, std: 0.07150, params: {'n_neighbors': 24, 'weights': 'uniform'},\n",
       " mean: 0.78090, std: 0.07067, params: {'n_neighbors': 24, 'weights': 'distance'},\n",
       " mean: 0.78320, std: 0.07196, params: {'n_neighbors': 25, 'weights': 'uniform'},\n",
       " mean: 0.78130, std: 0.07168, params: {'n_neighbors': 25, 'weights': 'distance'},\n",
       " mean: 0.78290, std: 0.07140, params: {'n_neighbors': 26, 'weights': 'uniform'},\n",
       " mean: 0.78170, std: 0.07134, params: {'n_neighbors': 26, 'weights': 'distance'},\n",
       " mean: 0.78320, std: 0.07272, params: {'n_neighbors': 27, 'weights': 'uniform'},\n",
       " mean: 0.78230, std: 0.07173, params: {'n_neighbors': 27, 'weights': 'distance'},\n",
       " mean: 0.78230, std: 0.07186, params: {'n_neighbors': 28, 'weights': 'uniform'},\n",
       " mean: 0.78240, std: 0.07206, params: {'n_neighbors': 28, 'weights': 'distance'},\n",
       " mean: 0.78310, std: 0.07118, params: {'n_neighbors': 29, 'weights': 'uniform'},\n",
       " mean: 0.78360, std: 0.07196, params: {'n_neighbors': 29, 'weights': 'distance'},\n",
       " mean: 0.78330, std: 0.07093, params: {'n_neighbors': 30, 'weights': 'uniform'},\n",
       " mean: 0.78330, std: 0.07182, params: {'n_neighbors': 30, 'weights': 'distance'}]"
      ]
     },
     "execution_count": 55,
     "metadata": {},
     "output_type": "execute_result"
    }
   ],
   "source": [
    "grid.grid_scores_"
   ]
  },
  {
   "cell_type": "code",
   "execution_count": 56,
   "metadata": {
    "collapsed": false
   },
   "outputs": [
    {
     "name": "stdout",
     "output_type": "stream",
     "text": [
      "0.7847\n",
      "{'n_neighbors': 16, 'weights': 'uniform'}\n"
     ]
    }
   ],
   "source": [
    "#examine the best model\n",
    "print grid.best_score_\n",
    "print grid.best_params_"
   ]
  },
  {
   "cell_type": "markdown",
   "metadata": {},
   "source": [
    "### Using the best parameters to make predictions"
   ]
  },
  {
   "cell_type": "code",
   "execution_count": 57,
   "metadata": {
    "collapsed": false
   },
   "outputs": [
    {
     "name": "stderr",
     "output_type": "stream",
     "text": [
      "/Users/csiu87/anaconda/lib/python2.7/site-packages/sklearn/utils/validation.py:386: DeprecationWarning: Passing 1d arrays as data is deprecated in 0.17 and willraise ValueError in 0.19. Reshape your data either using X.reshape(-1, 1) if your data has a single feature or X.reshape(1, -1) if it contains a single sample.\n",
      "  DeprecationWarning)\n"
     ]
    },
    {
     "data": {
      "text/plain": [
       "array([1])"
      ]
     },
     "execution_count": 57,
     "metadata": {},
     "output_type": "execute_result"
    }
   ],
   "source": [
    "#train your model using best known parameters\n",
    "knn = KNeighborsClassifier(n_neighbors=16, weights='uniform')\n",
    "knn.fit(X, y)\n",
    "\n",
    "knn.predict([3, 100, 30, 3, 68])"
   ]
  },
  {
   "cell_type": "code",
   "execution_count": 58,
   "metadata": {
    "collapsed": false
   },
   "outputs": [
    {
     "name": "stderr",
     "output_type": "stream",
     "text": [
      "/Users/csiu87/anaconda/lib/python2.7/site-packages/sklearn/utils/validation.py:386: DeprecationWarning: Passing 1d arrays as data is deprecated in 0.17 and willraise ValueError in 0.19. Reshape your data either using X.reshape(-1, 1) if your data has a single feature or X.reshape(1, -1) if it contains a single sample.\n",
      "  DeprecationWarning)\n"
     ]
    },
    {
     "data": {
      "text/plain": [
       "array([1])"
      ]
     },
     "execution_count": 58,
     "metadata": {},
     "output_type": "execute_result"
    }
   ],
   "source": [
    "#shortcut: gridsearchCV refits the model automatically using all of the data\n",
    "grid.predict([3, 100, 30, 3, 68])"
   ]
  },
  {
   "cell_type": "markdown",
   "metadata": {
    "collapsed": true
   },
   "source": [
    "# Lesson 9 - Evaluating Classification Model"
   ]
  },
  {
   "cell_type": "markdown",
   "metadata": {},
   "source": [
    " ### Can we predict whether the client will churn given their leads, spend, invoices, logins, and days_active"
   ]
  },
  {
   "cell_type": "code",
   "execution_count": 59,
   "metadata": {
    "collapsed": false
   },
   "outputs": [],
   "source": [
    "# define x and y\n",
    "feature_cols = ['leads_30days','invoices_30days','spend_30days','logins_30days','days_live']\n",
    "\n",
    "X = df[feature_cols]\n",
    "y = df.churned"
   ]
  },
  {
   "cell_type": "code",
   "execution_count": 60,
   "metadata": {
    "collapsed": true
   },
   "outputs": [],
   "source": [
    "#split X and y into training and testing sets \n",
    "\n",
    "from sklearn.cross_validation import train_test_split\n",
    "X_train, X_test, y_train, y_test = train_test_split(X, y, random_state=0)"
   ]
  },
  {
   "cell_type": "code",
   "execution_count": 61,
   "metadata": {
    "collapsed": false
   },
   "outputs": [
    {
     "data": {
      "text/plain": [
       "LogisticRegression(C=1.0, class_weight=None, dual=False, fit_intercept=True,\n",
       "          intercept_scaling=1, max_iter=100, multi_class='ovr', n_jobs=1,\n",
       "          penalty='l2', random_state=None, solver='liblinear', tol=0.0001,\n",
       "          verbose=0, warm_start=False)"
      ]
     },
     "execution_count": 61,
     "metadata": {},
     "output_type": "execute_result"
    }
   ],
   "source": [
    "# train a logistic regression model on the training set\n",
    "\n",
    "from sklearn.linear_model import LogisticRegression\n",
    "logreg = LogisticRegression()\n",
    "logreg.fit(X_train, y_train)"
   ]
  },
  {
   "cell_type": "code",
   "execution_count": 62,
   "metadata": {
    "collapsed": true
   },
   "outputs": [],
   "source": [
    "#make class predictions for the testing set\n",
    "y_pred_class = logreg.predict(X_test)"
   ]
  },
  {
   "cell_type": "markdown",
   "metadata": {},
   "source": [
    "### Classification accuracy: percentage of correct predictions"
   ]
  },
  {
   "cell_type": "code",
   "execution_count": 63,
   "metadata": {
    "collapsed": false
   },
   "outputs": [
    {
     "name": "stdout",
     "output_type": "stream",
     "text": [
      "0.7848\n"
     ]
    }
   ],
   "source": [
    "#calculate accuracy\n",
    "from sklearn import metrics\n",
    "print metrics.accuracy_score(y_test, y_pred_class)"
   ]
  },
  {
   "cell_type": "markdown",
   "metadata": {},
   "source": [
    "### Null accuracy: accuracy that could be achieved by always predicting the most frequent class"
   ]
  },
  {
   "cell_type": "code",
   "execution_count": 64,
   "metadata": {
    "collapsed": false
   },
   "outputs": [
    {
     "data": {
      "text/plain": [
       "1    1266\n",
       "0    1234\n",
       "Name: churned, dtype: int64"
      ]
     },
     "execution_count": 64,
     "metadata": {},
     "output_type": "execute_result"
    }
   ],
   "source": [
    "#examine the class distribution of the testing set (using a Pandas series method)\n",
    "y_test.value_counts()"
   ]
  },
  {
   "cell_type": "code",
   "execution_count": 65,
   "metadata": {
    "collapsed": false
   },
   "outputs": [
    {
     "data": {
      "text/plain": [
       "0.5064"
      ]
     },
     "execution_count": 65,
     "metadata": {},
     "output_type": "execute_result"
    }
   ],
   "source": [
    "#calculate the percentage of ones\n",
    "y_test.mean()"
   ]
  },
  {
   "cell_type": "code",
   "execution_count": 66,
   "metadata": {
    "collapsed": false
   },
   "outputs": [
    {
     "data": {
      "text/plain": [
       "0.49360000000000004"
      ]
     },
     "execution_count": 66,
     "metadata": {},
     "output_type": "execute_result"
    }
   ],
   "source": [
    "#calculate the percentage of zeros. This means that a dumb model that a client will not churn will be right 63% of the time.\n",
    "#Compared to our 69% accuracy using logistic regression, our model performs only slightly better.\n",
    "1- y_test.mean()"
   ]
  },
  {
   "cell_type": "code",
   "execution_count": 67,
   "metadata": {
    "collapsed": false
   },
   "outputs": [
    {
     "data": {
      "text/plain": [
       "0.5064"
      ]
     },
     "execution_count": 67,
     "metadata": {},
     "output_type": "execute_result"
    }
   ],
   "source": [
    "#calculate null accuracy in one line; only works with binary and pandas series\n",
    "max(y_test.mean(), 1 - y_test.mean())"
   ]
  },
  {
   "cell_type": "code",
   "execution_count": 68,
   "metadata": {
    "collapsed": false
   },
   "outputs": [
    {
     "data": {
      "text/plain": [
       "1    0.5064\n",
       "Name: churned, dtype: float64"
      ]
     },
     "execution_count": 68,
     "metadata": {},
     "output_type": "execute_result"
    }
   ],
   "source": [
    "#calculate null accuracy for multi-class classification\n",
    "y_test.value_counts().head(1)/len(y_test)"
   ]
  },
  {
   "cell_type": "markdown",
   "metadata": {},
   "source": [
    "### Comparing the true and predicted response values"
   ]
  },
  {
   "cell_type": "code",
   "execution_count": 69,
   "metadata": {
    "collapsed": false
   },
   "outputs": [
    {
     "name": "stdout",
     "output_type": "stream",
     "text": [
      "True: [0 1 1 0 1 0 0 1 1 1 0 1 1 0 0 0 0 1 1 0 1 0 1 0 0]\n",
      "Pred: [1 1 1 0 1 1 0 1 1 1 0 1 1 0 0 0 0 1 1 0 1 0 1 0 0]\n"
     ]
    }
   ],
   "source": [
    "#print the first 25 true and predicted responses\n",
    "print 'True:', y_test.values[0:25]\n",
    "print 'Pred:', y_pred_class[0:25]"
   ]
  },
  {
   "cell_type": "markdown",
   "metadata": {},
   "source": [
    "# Confusion Matrix"
   ]
  },
  {
   "cell_type": "code",
   "execution_count": 70,
   "metadata": {
    "collapsed": false
   },
   "outputs": [
    {
     "name": "stdout",
     "output_type": "stream",
     "text": [
      "[[ 891  343]\n",
      " [ 195 1071]]\n"
     ]
    }
   ],
   "source": [
    "#first argument (col) is true values, second argument is predicted values\n",
    "print metrics.confusion_matrix(y_test, y_pred_class)"
   ]
  },
  {
   "cell_type": "code",
   "execution_count": 71,
   "metadata": {
    "collapsed": true
   },
   "outputs": [],
   "source": [
    "#TN (predicted no churn, and did not churn) - 891\n",
    "#FP (predicted churn, and churned; Type 1 error) - 343\n",
    "#FN (predicted no churn, and did churn; Type II error) - 195\n",
    "#TP (predicted churned, and chured)- 1071\n",
    "\n",
    "#save confusion matrix and slice into four pieces\n",
    "confusion = metrics.confusion_matrix(y_test, y_pred_class)\n",
    "\n",
    "TN = confusion[0, 0]\n",
    "FP = confusion[0, 1]\n",
    "FN = confusion[1, 0]\n",
    "TP = confusion[1, 1]"
   ]
  },
  {
   "cell_type": "markdown",
   "metadata": {},
   "source": [
    "## Metrics computed from a confusion matrix"
   ]
  },
  {
   "cell_type": "markdown",
   "metadata": {},
   "source": [
    "### Classification Accuracy: Overall, how often is the classifier correct?\n"
   ]
  },
  {
   "cell_type": "code",
   "execution_count": 72,
   "metadata": {
    "collapsed": false
   },
   "outputs": [
    {
     "name": "stdout",
     "output_type": "stream",
     "text": [
      "0.7848\n",
      "0.7848\n"
     ]
    }
   ],
   "source": [
    "print (TP + TN)/float(TP + TN + FP + FN)\n",
    "print metrics.accuracy_score(y_test, y_pred_class)"
   ]
  },
  {
   "cell_type": "markdown",
   "metadata": {},
   "source": [
    "### Classification Error: Overall, how often is the classifier incorrect (misclassification rate)?"
   ]
  },
  {
   "cell_type": "code",
   "execution_count": 73,
   "metadata": {
    "collapsed": false
   },
   "outputs": [
    {
     "name": "stdout",
     "output_type": "stream",
     "text": [
      "0.2152\n",
      "0.2152\n"
     ]
    }
   ],
   "source": [
    "print (FP + FN)/float(TP + TN + FP + FN)\n",
    "print 1 - metrics.accuracy_score(y_test, y_pred_class)"
   ]
  },
  {
   "cell_type": "markdown",
   "metadata": {},
   "source": [
    "### Sensitivity - When the actual value is positive, how sensitive is the classifier to detecting positive instances? Also know as \"True Positive Rate\" or \"Recall\""
   ]
  },
  {
   "cell_type": "code",
   "execution_count": 74,
   "metadata": {
    "collapsed": false
   },
   "outputs": [
    {
     "name": "stdout",
     "output_type": "stream",
     "text": [
      "0.845971563981\n",
      "0.845971563981\n"
     ]
    }
   ],
   "source": [
    "print TP/float(FN + TP)\n",
    "print metrics.recall_score(y_test, y_pred_class)"
   ]
  },
  {
   "cell_type": "markdown",
   "metadata": {},
   "source": [
    "### Specificity - When the actual value is negative, how often is the prediction correct? How specific or selective is the classifier in predicting positive instances?"
   ]
  },
  {
   "cell_type": "code",
   "execution_count": 75,
   "metadata": {
    "collapsed": false
   },
   "outputs": [
    {
     "name": "stdout",
     "output_type": "stream",
     "text": [
      "0.722042139384\n"
     ]
    }
   ],
   "source": [
    "# our model is highly sensitive, but not highly specific\n",
    "print TN/float(TN + FP)"
   ]
  },
  {
   "cell_type": "markdown",
   "metadata": {},
   "source": [
    "### False Positive Rate: When the actual value is negative, how often is the prediction incorrect?"
   ]
  },
  {
   "cell_type": "code",
   "execution_count": 76,
   "metadata": {
    "collapsed": false
   },
   "outputs": [
    {
     "name": "stdout",
     "output_type": "stream",
     "text": [
      "0.277957860616\n"
     ]
    }
   ],
   "source": [
    "print FP/float(TN + FP)"
   ]
  },
  {
   "cell_type": "markdown",
   "metadata": {},
   "source": [
    "### Precision:  When a positive value is predicted, how often is the prediction correct?"
   ]
  },
  {
   "cell_type": "code",
   "execution_count": 77,
   "metadata": {
    "collapsed": false
   },
   "outputs": [
    {
     "name": "stdout",
     "output_type": "stream",
     "text": [
      "0.757425742574\n",
      "0.757425742574\n"
     ]
    }
   ],
   "source": [
    "print TP/float(FP + TP)\n",
    "print metrics.precision_score(y_test, y_pred_class)"
   ]
  },
  {
   "cell_type": "markdown",
   "metadata": {},
   "source": [
    "Business objective - Priority is to identify clients that are most likely to churn. Therefore predicting a customer that was not going to churn, but churned (FN)  is less acceptable than predicting a customer was going to churn, but did not churn (FP). Therefore, I will optimize for precision or specificity. \n",
    "\n",
    "If my FP (predicted churned but did not churn) was more acceptable than FN (predicted not churned, but actually churned), then I would optimize for sensitivity. \n",
    "\n",
    "In this case my model is more highly specific, which is what I want versus highly sensitive. However, I am losing money by marketing to already surviving customers versus for a customer that I didn't catch and didn't identify did not waste any dollars."
   ]
  },
  {
   "cell_type": "markdown",
   "metadata": {},
   "source": [
    "## Adjusting the classification threshold"
   ]
  },
  {
   "cell_type": "code",
   "execution_count": 78,
   "metadata": {
    "collapsed": false
   },
   "outputs": [
    {
     "data": {
      "text/plain": [
       "array([1, 1, 1, 0, 1, 1, 0, 1, 1, 1])"
      ]
     },
     "execution_count": 78,
     "metadata": {},
     "output_type": "execute_result"
    }
   ],
   "source": [
    "# print the first 10 predicted responses\n",
    "logreg.predict(X_test)[0:10]"
   ]
  },
  {
   "cell_type": "code",
   "execution_count": 79,
   "metadata": {
    "collapsed": false
   },
   "outputs": [
    {
     "data": {
      "text/plain": [
       "array([[ 0.20349206,  0.79650794],\n",
       "       [ 0.21186859,  0.78813141],\n",
       "       [ 0.20496695,  0.79503305],\n",
       "       ..., \n",
       "       [ 0.35210666,  0.64789334],\n",
       "       [ 0.90979594,  0.09020406],\n",
       "       [ 0.13808231,  0.86191769]])"
      ]
     },
     "execution_count": 79,
     "metadata": {},
     "output_type": "execute_result"
    }
   ],
   "source": [
    "#pring the first 10 predicted probabilities of class membership. Each column represents each response class of 0 and 1. \n",
    "#In order to be predicted as class 1, the second col must exceed 0.5, which is why our 10 predicted responses are all 0. \n",
    "logreg.predict_proba(X_test)[:, :]"
   ]
  },
  {
   "cell_type": "code",
   "execution_count": 80,
   "metadata": {
    "collapsed": false
   },
   "outputs": [
    {
     "data": {
      "text/plain": [
       "array([ 0.79650794,  0.78813141,  0.79503305, ...,  0.64789334,\n",
       "        0.09020406,  0.86191769])"
      ]
     },
     "execution_count": 80,
     "metadata": {},
     "output_type": "execute_result"
    }
   ],
   "source": [
    "#print the first 10 predicted probabilities for class 1\n",
    "logreg.predict_proba(X_test)[:, 1]"
   ]
  },
  {
   "cell_type": "code",
   "execution_count": 81,
   "metadata": {
    "collapsed": false
   },
   "outputs": [],
   "source": [
    "#store the predicted probabilities for class 1\n",
    "y_pred_prob = logreg.predict_proba(X_test)[:, 1]"
   ]
  },
  {
   "cell_type": "code",
   "execution_count": 82,
   "metadata": {
    "collapsed": false
   },
   "outputs": [],
   "source": [
    "%matplotlib inline\n",
    "import matplotlib.pyplot as plt\n",
    "plt.rcParams['font.size'] = 14"
   ]
  },
  {
   "cell_type": "code",
   "execution_count": 83,
   "metadata": {
    "collapsed": false
   },
   "outputs": [
    {
     "data": {
      "text/plain": [
       "<matplotlib.text.Text at 0x118a3d0d0>"
      ]
     },
     "execution_count": 83,
     "metadata": {},
     "output_type": "execute_result"
    },
    {
     "data": {
      "image/png": "[encoded data removed]",
      "text/plain": [
       "<matplotlib.figure.Figure at 0x119a92190>"
      ]
     },
     "metadata": {},
     "output_type": "display_data"
    }
   ],
   "source": [
    "#histogram\n",
    "plt.hist(y_pred_prob, bins=8)\n",
    "plt.xlim(0,1)\n",
    "plt.title('Histogram of predicted probabilities')\n",
    "plt.xlabel('Predicted probability of churn')\n",
    "plt.ylabel('Frequency')"
   ]
  },
  {
   "cell_type": "markdown",
   "metadata": {},
   "source": [
    "About 780 of our observations fall between 0.8 and 0.9 probability of churn. 500 fall in < 0.1 probability of churn"
   ]
  },
  {
   "cell_type": "markdown",
   "metadata": {},
   "source": [
    "### Decrease the threshold for predicting churn in order to increase the sensitivity of the classifier"
   ]
  },
  {
   "cell_type": "code",
   "execution_count": 84,
   "metadata": {
    "collapsed": false
   },
   "outputs": [],
   "source": [
    "# predict churn if the predicted probability is greater than 0.3\n",
    "from sklearn.preprocessing import binarize \n",
    "y_pred_class = binarize([y_pred_prob], 0.3)[0]"
   ]
  },
  {
   "cell_type": "code",
   "execution_count": 85,
   "metadata": {
    "collapsed": false
   },
   "outputs": [
    {
     "data": {
      "text/plain": [
       "array([ 0.79650794,  0.78813141,  0.79503305,  0.29203663,  0.7428995 ,\n",
       "        0.77655579,  0.05209046,  0.88814388,  0.82146363,  0.99999598])"
      ]
     },
     "execution_count": 85,
     "metadata": {},
     "output_type": "execute_result"
    }
   ],
   "source": [
    "# print first 10 predicted probabilities\n",
    "y_pred_prob[0:10]"
   ]
  },
  {
   "cell_type": "code",
   "execution_count": 86,
   "metadata": {
    "collapsed": false
   },
   "outputs": [
    {
     "data": {
      "text/plain": [
       "array([ 1.,  1.,  1.,  0.,  1.,  1.,  0.,  1.,  1.,  1.])"
      ]
     },
     "execution_count": 86,
     "metadata": {},
     "output_type": "execute_result"
    }
   ],
   "source": [
    "# print first 10 classes with lower threshold\n",
    "y_pred_class[0:10]"
   ]
  },
  {
   "cell_type": "code",
   "execution_count": 87,
   "metadata": {
    "collapsed": false
   },
   "outputs": [
    {
     "name": "stdout",
     "output_type": "stream",
     "text": [
      "[[ 891  343]\n",
      " [ 195 1071]]\n"
     ]
    }
   ],
   "source": [
    "# print confusion matrix(default of 0.5)\n",
    "print confusion"
   ]
  },
  {
   "cell_type": "code",
   "execution_count": 88,
   "metadata": {
    "collapsed": false
   },
   "outputs": [
    {
     "name": "stdout",
     "output_type": "stream",
     "text": [
      "[[ 703  531]\n",
      " [ 117 1149]]\n"
     ]
    }
   ],
   "source": [
    "# print confusion matrix (default of 0.3)\n",
    "print metrics.confusion_matrix(y_test, y_pred_class)"
   ]
  },
  {
   "cell_type": "code",
   "execution_count": 89,
   "metadata": {
    "collapsed": false
   },
   "outputs": [
    {
     "name": "stdout",
     "output_type": "stream",
     "text": [
      "0.907582938389\n"
     ]
    }
   ],
   "source": [
    "# sensitivity has increased (used to be .84)\n",
    "print 1149 / float(117 + 1149)"
   ]
  },
  {
   "cell_type": "code",
   "execution_count": 90,
   "metadata": {
    "collapsed": false
   },
   "outputs": [
    {
     "name": "stdout",
     "output_type": "stream",
     "text": [
      "0.569692058347\n"
     ]
    }
   ],
   "source": [
    "# specifity has decreased (used to be .72)\n",
    "print 703 / float(703 + 531)"
   ]
  },
  {
   "cell_type": "markdown",
   "metadata": {},
   "source": [
    "# ROC Curves and Area Under the Curve (AUC)\n",
    "\n",
    "### See how sensitivity and specificity are affected by various thresholds"
   ]
  },
  {
   "cell_type": "code",
   "execution_count": 91,
   "metadata": {
    "collapsed": false
   },
   "outputs": [
    {
     "data": {
      "image/png": "[encoded data removed]",
      "text/plain": [
       "<matplotlib.figure.Figure at 0x118bd6a50>"
      ]
     },
     "metadata": {},
     "output_type": "display_data"
    }
   ],
   "source": [
    "fpr, tpr, thresholds = metrics.roc_curve(y_test, y_pred_prob)\n",
    "plt.plot(fpr, tpr)\n",
    "plt.xlim([0.0, 1.0])\n",
    "plt.ylim([0.0, 1.0])\n",
    "plt.title('ROC curve for churn classifier')\n",
    "plt.xlabel('False Positive Rate (1- Specificity)')\n",
    "plt.ylabel('True Positive Rate (Sensitivity)')\n",
    "plt.grid(True)"
   ]
  },
  {
   "cell_type": "code",
   "execution_count": 92,
   "metadata": {
    "collapsed": true
   },
   "outputs": [],
   "source": [
    "# define a function that accepts a threshold and prints sensitivity and specificity\n",
    "def evaluate_threshold(threshold): \n",
    "    print 'Sensitivity:', tpr[thresholds > threshold][-1]\n",
    "    print 'Specificity:', 1-fpr[thresholds > threshold][-1]"
   ]
  },
  {
   "cell_type": "code",
   "execution_count": 93,
   "metadata": {
    "collapsed": false
   },
   "outputs": [
    {
     "name": "stdout",
     "output_type": "stream",
     "text": [
      "Sensitivity: 0.845181674566\n",
      "Specificity: 0.722042139384\n"
     ]
    }
   ],
   "source": [
    "evaluate_threshold(0.5)"
   ]
  },
  {
   "cell_type": "code",
   "execution_count": 94,
   "metadata": {
    "collapsed": false
   },
   "outputs": [
    {
     "name": "stdout",
     "output_type": "stream",
     "text": [
      "Sensitivity: 0.907582938389\n",
      "Specificity: 0.572123176661\n"
     ]
    }
   ],
   "source": [
    "evaluate_threshold(0.3)"
   ]
  },
  {
   "cell_type": "markdown",
   "metadata": {},
   "source": [
    "### AUC is the percentage of the ROC plot that is underneath the curve"
   ]
  },
  {
   "cell_type": "code",
   "execution_count": 95,
   "metadata": {
    "collapsed": false
   },
   "outputs": [
    {
     "name": "stdout",
     "output_type": "stream",
     "text": [
      "0.869275542105\n"
     ]
    }
   ],
   "source": [
    "print metrics.roc_auc_score(y_test, y_pred_prob)"
   ]
  },
  {
   "cell_type": "code",
   "execution_count": 96,
   "metadata": {
    "collapsed": false
   },
   "outputs": [
    {
     "data": {
      "text/plain": [
       "0.87064027505195019"
      ]
     },
     "execution_count": 96,
     "metadata": {},
     "output_type": "execute_result"
    }
   ],
   "source": [
    "# calculate cross validated AUC\n",
    "from sklearn.cross_validation import cross_val_score\n",
    "cross_val_score(logreg, X, y, cv=10, scoring='roc_auc').mean()"
   ]
  },
  {
   "cell_type": "markdown",
   "metadata": {
    "collapsed": true
   },
   "source": [
    "End of lesson 9"
   ]
  },
  {
   "cell_type": "code",
   "execution_count": 97,
   "metadata": {
    "collapsed": true
   },
   "outputs": [],
   "source": [
    " #precision recall curve\n",
    "#logistic regression coefficients"
   ]
  }
 ],
 "metadata": {
  "kernelspec": {
   "display_name": "Python 2",
   "language": "python",
   "name": "python2"
  },
  "language_info": {
   "codemirror_mode": {
    "name": "ipython",
    "version": 2
   },
   "file_extension": ".py",
   "mimetype": "text/x-python",
   "name": "python",
   "nbconvert_exporter": "python",
   "pygments_lexer": "ipython2",
   "version": "2.7.11"
  }
 },
 "nbformat": 4,
 "nbformat_minor": 0
}
