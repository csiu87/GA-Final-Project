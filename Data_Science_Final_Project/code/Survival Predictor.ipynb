{
 "cells": [
  {
   "cell_type": "code",
   "execution_count": 1,
   "metadata": {
    "collapsed": false
   },
   "outputs": [],
   "source": [
    "import pandas as pd\n",
    "import numpy as np\n",
    "import matplotlib.pyplot as plt\n",
    "import pylab as pl\n",
    "import seaborn as sns\n",
    "import statsmodels.formula.api as smf\n",
    "import statsmodels.api as sm\n",
    "from sklearn.cross_validation import KFold\n",
    "from sklearn.linear_model import LogisticRegression\n",
    "from sklearn.grid_search import GridSearchCV\n",
    "from sklearn.neighbors import KNeighborsClassifier\n",
    "from sklearn.metrics import roc_curve, roc_auc_score\n",
    "\n",
    "%matplotlib inline "
   ]
  },
  {
   "cell_type": "markdown",
   "metadata": {},
   "source": [
    "## Load and prepare dataset"
   ]
  },
  {
   "cell_type": "code",
   "execution_count": 2,
   "metadata": {
    "collapsed": false
   },
   "outputs": [],
   "source": [
    "df_raw = pd.read_csv(\"../assets/Churn_Predictor.csv\")"
   ]
  },
  {
   "cell_type": "code",
   "execution_count": 3,
   "metadata": {
    "collapsed": false
   },
   "outputs": [
    {
     "data": {
      "text/html": [
       "<div>\n",
       "<table border=\"1\" class=\"dataframe\">\n",
       "  <thead>\n",
       "    <tr style=\"text-align: right;\">\n",
       "      <th></th>\n",
       "      <th>client_id</th>\n",
       "      <th>client_Type</th>\n",
       "      <th>status</th>\n",
       "      <th>churned</th>\n",
       "      <th>survived</th>\n",
       "      <th>segment</th>\n",
       "      <th>segment_rank</th>\n",
       "      <th>provisioning_date_initial</th>\n",
       "      <th>live_date_initial</th>\n",
       "      <th>termination_date</th>\n",
       "      <th>days_active_range</th>\n",
       "      <th>days_active</th>\n",
       "      <th>completed_csc_ind</th>\n",
       "      <th>yodle_package_initial_provisioning</th>\n",
       "      <th>monthly_recurring_revenue_initial</th>\n",
       "      <th>contractlength</th>\n",
       "      <th>last_login</th>\n",
       "      <th>total_logins</th>\n",
       "      <th>total_leads</th>\n",
       "      <th>total_spend</th>\n",
       "    </tr>\n",
       "  </thead>\n",
       "  <tbody>\n",
       "    <tr>\n",
       "      <th>0</th>\n",
       "      <td>89456</td>\n",
       "      <td>Local</td>\n",
       "      <td>LIVE</td>\n",
       "      <td>0</td>\n",
       "      <td>1</td>\n",
       "      <td>Lawyer</td>\n",
       "      <td>3</td>\n",
       "      <td>2/17/2012</td>\n",
       "      <td>2/22/2012</td>\n",
       "      <td>9/26/2015</td>\n",
       "      <td>181+</td>\n",
       "      <td>1648.0</td>\n",
       "      <td>0</td>\n",
       "      <td>Yodle_Max</td>\n",
       "      <td>1249.0</td>\n",
       "      <td>THREE_MONTH</td>\n",
       "      <td>8/25/2016</td>\n",
       "      <td>5</td>\n",
       "      <td>570</td>\n",
       "      <td>7536.00</td>\n",
       "    </tr>\n",
       "    <tr>\n",
       "      <th>1</th>\n",
       "      <td>107293</td>\n",
       "      <td>Local</td>\n",
       "      <td>LIVE</td>\n",
       "      <td>0</td>\n",
       "      <td>1</td>\n",
       "      <td>HVAC Contractor</td>\n",
       "      <td>&gt;5</td>\n",
       "      <td>6/20/2012</td>\n",
       "      <td>6/25/2012</td>\n",
       "      <td>12/25/2014</td>\n",
       "      <td>181+</td>\n",
       "      <td>1524.0</td>\n",
       "      <td>0</td>\n",
       "      <td>Yodle_Max</td>\n",
       "      <td>1249.0</td>\n",
       "      <td>THREE_MONTH</td>\n",
       "      <td>5/16/2016</td>\n",
       "      <td>6</td>\n",
       "      <td>812</td>\n",
       "      <td>0.00</td>\n",
       "    </tr>\n",
       "    <tr>\n",
       "      <th>2</th>\n",
       "      <td>95932</td>\n",
       "      <td>Local</td>\n",
       "      <td>OFF</td>\n",
       "      <td>1</td>\n",
       "      <td>0</td>\n",
       "      <td>Lawyer</td>\n",
       "      <td>3</td>\n",
       "      <td>6/15/2015</td>\n",
       "      <td>6/15/2015</td>\n",
       "      <td>8/28/2015</td>\n",
       "      <td>61-90</td>\n",
       "      <td>74.0</td>\n",
       "      <td>0</td>\n",
       "      <td>Yodle_Max</td>\n",
       "      <td>699.0</td>\n",
       "      <td>THREE_MONTH</td>\n",
       "      <td>8/13/2015</td>\n",
       "      <td>14</td>\n",
       "      <td>216</td>\n",
       "      <td>391.13</td>\n",
       "    </tr>\n",
       "    <tr>\n",
       "      <th>3</th>\n",
       "      <td>79900</td>\n",
       "      <td>Local</td>\n",
       "      <td>LIVE</td>\n",
       "      <td>0</td>\n",
       "      <td>1</td>\n",
       "      <td>Flooring Contractor</td>\n",
       "      <td>&gt;5</td>\n",
       "      <td>9/7/2011</td>\n",
       "      <td>9/7/2011</td>\n",
       "      <td>12/7/2014</td>\n",
       "      <td>181+</td>\n",
       "      <td>1816.0</td>\n",
       "      <td>0</td>\n",
       "      <td>Yodle_Organic</td>\n",
       "      <td>145.0</td>\n",
       "      <td>NO_CONTRACT</td>\n",
       "      <td>NaN</td>\n",
       "      <td>0</td>\n",
       "      <td>1029</td>\n",
       "      <td>0.00</td>\n",
       "    </tr>\n",
       "    <tr>\n",
       "      <th>4</th>\n",
       "      <td>105070</td>\n",
       "      <td>Local</td>\n",
       "      <td>LIVE</td>\n",
       "      <td>0</td>\n",
       "      <td>1</td>\n",
       "      <td>Roofer</td>\n",
       "      <td>5</td>\n",
       "      <td>5/31/2012</td>\n",
       "      <td>5/31/2012</td>\n",
       "      <td>2/28/2015</td>\n",
       "      <td>181+</td>\n",
       "      <td>1549.0</td>\n",
       "      <td>0</td>\n",
       "      <td>Yodle_Organic</td>\n",
       "      <td>145.0</td>\n",
       "      <td>NO_CONTRACT</td>\n",
       "      <td>8/3/2016</td>\n",
       "      <td>35</td>\n",
       "      <td>215</td>\n",
       "      <td>0.00</td>\n",
       "    </tr>\n",
       "  </tbody>\n",
       "</table>\n",
       "</div>"
      ],
      "text/plain": [
       "   client_id client_Type status  churned  survived              segment  \\\n",
       "0      89456       Local   LIVE        0         1               Lawyer   \n",
       "1     107293       Local   LIVE        0         1      HVAC Contractor   \n",
       "2      95932       Local    OFF        1         0               Lawyer   \n",
       "3      79900       Local   LIVE        0         1  Flooring Contractor   \n",
       "4     105070       Local   LIVE        0         1               Roofer   \n",
       "\n",
       "  segment_rank provisioning_date_initial live_date_initial termination_date  \\\n",
       "0            3                 2/17/2012         2/22/2012        9/26/2015   \n",
       "1           >5                 6/20/2012         6/25/2012       12/25/2014   \n",
       "2            3                 6/15/2015         6/15/2015        8/28/2015   \n",
       "3           >5                  9/7/2011          9/7/2011        12/7/2014   \n",
       "4            5                 5/31/2012         5/31/2012        2/28/2015   \n",
       "\n",
       "  days_active_range  days_active  completed_csc_ind  \\\n",
       "0              181+       1648.0                  0   \n",
       "1              181+       1524.0                  0   \n",
       "2             61-90         74.0                  0   \n",
       "3              181+       1816.0                  0   \n",
       "4              181+       1549.0                  0   \n",
       "\n",
       "  yodle_package_initial_provisioning  monthly_recurring_revenue_initial  \\\n",
       "0                          Yodle_Max                             1249.0   \n",
       "1                          Yodle_Max                             1249.0   \n",
       "2                          Yodle_Max                              699.0   \n",
       "3                      Yodle_Organic                              145.0   \n",
       "4                      Yodle_Organic                              145.0   \n",
       "\n",
       "  contractlength last_login  total_logins  total_leads  total_spend  \n",
       "0    THREE_MONTH  8/25/2016             5          570      7536.00  \n",
       "1    THREE_MONTH  5/16/2016             6          812         0.00  \n",
       "2    THREE_MONTH  8/13/2015            14          216       391.13  \n",
       "3    NO_CONTRACT        NaN             0         1029         0.00  \n",
       "4    NO_CONTRACT   8/3/2016            35          215         0.00  "
      ]
     },
     "execution_count": 3,
     "metadata": {},
     "output_type": "execute_result"
    }
   ],
   "source": [
    "df_raw.head()"
   ]
  },
  {
   "cell_type": "code",
   "execution_count": 4,
   "metadata": {
    "collapsed": false
   },
   "outputs": [],
   "source": [
    "cols_to_remove = [\"client_id\", \"client_Type\",\"client_type\",\"status\",\"segment\",\"segment_rank\",\"provisioning_date_initial\",\n",
    "                  \"live_date_initial\",\"termination_date\",\"days_active\",\"days_active_range\",\"completed_csc_ind\",\n",
    "                  \"contractlength\",\"last_login\",\"total_logins\",\"churned\"]\n",
    "\n",
    "df = df_raw[[c for c in df_raw.columns if c not in cols_to_remove]]"
   ]
  },
  {
   "cell_type": "code",
   "execution_count": 5,
   "metadata": {
    "collapsed": false
   },
   "outputs": [
    {
     "data": {
      "text/html": [
       "<div>\n",
       "<table border=\"1\" class=\"dataframe\">\n",
       "  <thead>\n",
       "    <tr style=\"text-align: right;\">\n",
       "      <th></th>\n",
       "      <th>survived</th>\n",
       "      <th>yodle_package_initial_provisioning</th>\n",
       "      <th>monthly_recurring_revenue_initial</th>\n",
       "      <th>total_leads</th>\n",
       "      <th>total_spend</th>\n",
       "    </tr>\n",
       "  </thead>\n",
       "  <tbody>\n",
       "    <tr>\n",
       "      <th>0</th>\n",
       "      <td>1</td>\n",
       "      <td>Yodle_Max</td>\n",
       "      <td>1249.0</td>\n",
       "      <td>570</td>\n",
       "      <td>7536.00</td>\n",
       "    </tr>\n",
       "    <tr>\n",
       "      <th>1</th>\n",
       "      <td>1</td>\n",
       "      <td>Yodle_Max</td>\n",
       "      <td>1249.0</td>\n",
       "      <td>812</td>\n",
       "      <td>0.00</td>\n",
       "    </tr>\n",
       "    <tr>\n",
       "      <th>2</th>\n",
       "      <td>0</td>\n",
       "      <td>Yodle_Max</td>\n",
       "      <td>699.0</td>\n",
       "      <td>216</td>\n",
       "      <td>391.13</td>\n",
       "    </tr>\n",
       "    <tr>\n",
       "      <th>3</th>\n",
       "      <td>1</td>\n",
       "      <td>Yodle_Organic</td>\n",
       "      <td>145.0</td>\n",
       "      <td>1029</td>\n",
       "      <td>0.00</td>\n",
       "    </tr>\n",
       "    <tr>\n",
       "      <th>4</th>\n",
       "      <td>1</td>\n",
       "      <td>Yodle_Organic</td>\n",
       "      <td>145.0</td>\n",
       "      <td>215</td>\n",
       "      <td>0.00</td>\n",
       "    </tr>\n",
       "  </tbody>\n",
       "</table>\n",
       "</div>"
      ],
      "text/plain": [
       "   survived yodle_package_initial_provisioning  \\\n",
       "0         1                          Yodle_Max   \n",
       "1         1                          Yodle_Max   \n",
       "2         0                          Yodle_Max   \n",
       "3         1                      Yodle_Organic   \n",
       "4         1                      Yodle_Organic   \n",
       "\n",
       "   monthly_recurring_revenue_initial  total_leads  total_spend  \n",
       "0                             1249.0          570      7536.00  \n",
       "1                             1249.0          812         0.00  \n",
       "2                              699.0          216       391.13  \n",
       "3                              145.0         1029         0.00  \n",
       "4                              145.0          215         0.00  "
      ]
     },
     "execution_count": 5,
     "metadata": {},
     "output_type": "execute_result"
    }
   ],
   "source": [
    "df.head()"
   ]
  },
  {
   "cell_type": "code",
   "execution_count": 6,
   "metadata": {
    "collapsed": false
   },
   "outputs": [
    {
     "name": "stdout",
     "output_type": "stream",
     "text": [
      "(53349, 5)\n"
     ]
    },
    {
     "data": {
      "text/html": [
       "<div>\n",
       "<table border=\"1\" class=\"dataframe\">\n",
       "  <thead>\n",
       "    <tr style=\"text-align: right;\">\n",
       "      <th></th>\n",
       "      <th>survived</th>\n",
       "      <th>monthly_recurring_revenue_initial</th>\n",
       "      <th>total_leads</th>\n",
       "      <th>total_spend</th>\n",
       "    </tr>\n",
       "  </thead>\n",
       "  <tbody>\n",
       "    <tr>\n",
       "      <th>count</th>\n",
       "      <td>53349.000000</td>\n",
       "      <td>53349.000000</td>\n",
       "      <td>53349.000000</td>\n",
       "      <td>53349.000000</td>\n",
       "    </tr>\n",
       "    <tr>\n",
       "      <th>mean</th>\n",
       "      <td>0.364337</td>\n",
       "      <td>371.544167</td>\n",
       "      <td>144.308834</td>\n",
       "      <td>550.290725</td>\n",
       "    </tr>\n",
       "    <tr>\n",
       "      <th>std</th>\n",
       "      <td>0.481248</td>\n",
       "      <td>403.121716</td>\n",
       "      <td>535.407105</td>\n",
       "      <td>2853.118619</td>\n",
       "    </tr>\n",
       "    <tr>\n",
       "      <th>min</th>\n",
       "      <td>0.000000</td>\n",
       "      <td>0.000000</td>\n",
       "      <td>0.000000</td>\n",
       "      <td>0.000000</td>\n",
       "    </tr>\n",
       "    <tr>\n",
       "      <th>25%</th>\n",
       "      <td>0.000000</td>\n",
       "      <td>199.000000</td>\n",
       "      <td>10.000000</td>\n",
       "      <td>0.000000</td>\n",
       "    </tr>\n",
       "    <tr>\n",
       "      <th>50%</th>\n",
       "      <td>0.000000</td>\n",
       "      <td>249.000000</td>\n",
       "      <td>32.000000</td>\n",
       "      <td>0.000000</td>\n",
       "    </tr>\n",
       "    <tr>\n",
       "      <th>75%</th>\n",
       "      <td>1.000000</td>\n",
       "      <td>299.000000</td>\n",
       "      <td>105.000000</td>\n",
       "      <td>0.000000</td>\n",
       "    </tr>\n",
       "    <tr>\n",
       "      <th>max</th>\n",
       "      <td>1.000000</td>\n",
       "      <td>35049.000000</td>\n",
       "      <td>43549.000000</td>\n",
       "      <td>442214.680000</td>\n",
       "    </tr>\n",
       "  </tbody>\n",
       "</table>\n",
       "</div>"
      ],
      "text/plain": [
       "           survived  monthly_recurring_revenue_initial   total_leads  \\\n",
       "count  53349.000000                       53349.000000  53349.000000   \n",
       "mean       0.364337                         371.544167    144.308834   \n",
       "std        0.481248                         403.121716    535.407105   \n",
       "min        0.000000                           0.000000      0.000000   \n",
       "25%        0.000000                         199.000000     10.000000   \n",
       "50%        0.000000                         249.000000     32.000000   \n",
       "75%        1.000000                         299.000000    105.000000   \n",
       "max        1.000000                       35049.000000  43549.000000   \n",
       "\n",
       "         total_spend  \n",
       "count   53349.000000  \n",
       "mean      550.290725  \n",
       "std      2853.118619  \n",
       "min         0.000000  \n",
       "25%         0.000000  \n",
       "50%         0.000000  \n",
       "75%         0.000000  \n",
       "max    442214.680000  "
      ]
     },
     "execution_count": 6,
     "metadata": {},
     "output_type": "execute_result"
    }
   ],
   "source": [
    "print df.shape\n",
    "df.describe()"
   ]
  },
  {
   "cell_type": "code",
   "execution_count": 7,
   "metadata": {
    "collapsed": false
   },
   "outputs": [
    {
     "name": "stdout",
     "output_type": "stream",
     "text": [
      "('survived', 0)\n",
      "('yodle_package_initial_provisioning', 172)\n",
      "('monthly_recurring_revenue_initial', 0)\n",
      "('total_leads', 0)\n",
      "('total_spend', 0)\n"
     ]
    }
   ],
   "source": [
    "for c in df.columns:\n",
    "    print(c, len(df[df[c].isnull()]))"
   ]
  },
  {
   "cell_type": "code",
   "execution_count": 8,
   "metadata": {
    "collapsed": false
   },
   "outputs": [
    {
     "name": "stdout",
     "output_type": "stream",
     "text": [
      "survived                              53177\n",
      "yodle_package_initial_provisioning    53177\n",
      "monthly_recurring_revenue_initial     53177\n",
      "total_leads                           53177\n",
      "total_spend                           53177\n",
      "dtype: int64\n"
     ]
    }
   ],
   "source": [
    "df = df.dropna() \n",
    "print df.count()"
   ]
  },
  {
   "cell_type": "code",
   "execution_count": 9,
   "metadata": {
    "collapsed": false
   },
   "outputs": [
    {
     "data": {
      "text/html": [
       "<div>\n",
       "<table border=\"1\" class=\"dataframe\">\n",
       "  <thead>\n",
       "    <tr style=\"text-align: right;\">\n",
       "      <th></th>\n",
       "      <th>survived</th>\n",
       "      <th>monthly_recurring_revenue_initial</th>\n",
       "      <th>total_leads</th>\n",
       "      <th>total_spend</th>\n",
       "    </tr>\n",
       "  </thead>\n",
       "  <tbody>\n",
       "    <tr>\n",
       "      <th>count</th>\n",
       "      <td>53177.000000</td>\n",
       "      <td>53177.000000</td>\n",
       "      <td>53177.000000</td>\n",
       "      <td>53177.000000</td>\n",
       "    </tr>\n",
       "    <tr>\n",
       "      <th>mean</th>\n",
       "      <td>0.365496</td>\n",
       "      <td>371.788043</td>\n",
       "      <td>144.762266</td>\n",
       "      <td>552.070456</td>\n",
       "    </tr>\n",
       "    <tr>\n",
       "      <th>std</th>\n",
       "      <td>0.481574</td>\n",
       "      <td>403.584691</td>\n",
       "      <td>536.209397</td>\n",
       "      <td>2857.557259</td>\n",
       "    </tr>\n",
       "    <tr>\n",
       "      <th>min</th>\n",
       "      <td>0.000000</td>\n",
       "      <td>0.000000</td>\n",
       "      <td>0.000000</td>\n",
       "      <td>0.000000</td>\n",
       "    </tr>\n",
       "    <tr>\n",
       "      <th>25%</th>\n",
       "      <td>0.000000</td>\n",
       "      <td>199.000000</td>\n",
       "      <td>10.000000</td>\n",
       "      <td>0.000000</td>\n",
       "    </tr>\n",
       "    <tr>\n",
       "      <th>50%</th>\n",
       "      <td>0.000000</td>\n",
       "      <td>249.000000</td>\n",
       "      <td>32.000000</td>\n",
       "      <td>0.000000</td>\n",
       "    </tr>\n",
       "    <tr>\n",
       "      <th>75%</th>\n",
       "      <td>1.000000</td>\n",
       "      <td>299.000000</td>\n",
       "      <td>106.000000</td>\n",
       "      <td>0.000000</td>\n",
       "    </tr>\n",
       "    <tr>\n",
       "      <th>max</th>\n",
       "      <td>1.000000</td>\n",
       "      <td>35049.000000</td>\n",
       "      <td>43549.000000</td>\n",
       "      <td>442214.680000</td>\n",
       "    </tr>\n",
       "  </tbody>\n",
       "</table>\n",
       "</div>"
      ],
      "text/plain": [
       "           survived  monthly_recurring_revenue_initial   total_leads  \\\n",
       "count  53177.000000                       53177.000000  53177.000000   \n",
       "mean       0.365496                         371.788043    144.762266   \n",
       "std        0.481574                         403.584691    536.209397   \n",
       "min        0.000000                           0.000000      0.000000   \n",
       "25%        0.000000                         199.000000     10.000000   \n",
       "50%        0.000000                         249.000000     32.000000   \n",
       "75%        1.000000                         299.000000    106.000000   \n",
       "max        1.000000                       35049.000000  43549.000000   \n",
       "\n",
       "         total_spend  \n",
       "count   53177.000000  \n",
       "mean      552.070456  \n",
       "std      2857.557259  \n",
       "min         0.000000  \n",
       "25%         0.000000  \n",
       "50%         0.000000  \n",
       "75%         0.000000  \n",
       "max    442214.680000  "
      ]
     },
     "execution_count": 9,
     "metadata": {},
     "output_type": "execute_result"
    }
   ],
   "source": [
    "df.describe()"
   ]
  },
  {
   "cell_type": "markdown",
   "metadata": {},
   "source": [
    "## Exploratory Data Analysis"
   ]
  },
  {
   "cell_type": "markdown",
   "metadata": {},
   "source": [
    "### Frequency table"
   ]
  },
  {
   "cell_type": "code",
   "execution_count": 10,
   "metadata": {
    "collapsed": false
   },
   "outputs": [
    {
     "data": {
      "text/html": [
       "<div>\n",
       "<table border=\"1\" class=\"dataframe\">\n",
       "  <thead>\n",
       "    <tr style=\"text-align: right;\">\n",
       "      <th>yodle_package_initial_provisioning</th>\n",
       "      <th>Yodle_Ads</th>\n",
       "      <th>Yodle_Max</th>\n",
       "      <th>Yodle_Organic</th>\n",
       "      <th>Yodle_Web_Only</th>\n",
       "    </tr>\n",
       "    <tr>\n",
       "      <th>survived</th>\n",
       "      <th></th>\n",
       "      <th></th>\n",
       "      <th></th>\n",
       "      <th></th>\n",
       "    </tr>\n",
       "  </thead>\n",
       "  <tbody>\n",
       "    <tr>\n",
       "      <th>0</th>\n",
       "      <td>194</td>\n",
       "      <td>5573</td>\n",
       "      <td>27964</td>\n",
       "      <td>10</td>\n",
       "    </tr>\n",
       "    <tr>\n",
       "      <th>1</th>\n",
       "      <td>176</td>\n",
       "      <td>3010</td>\n",
       "      <td>16245</td>\n",
       "      <td>5</td>\n",
       "    </tr>\n",
       "  </tbody>\n",
       "</table>\n",
       "</div>"
      ],
      "text/plain": [
       "yodle_package_initial_provisioning  Yodle_Ads  Yodle_Max  Yodle_Organic  \\\n",
       "survived                                                                  \n",
       "0                                         194       5573          27964   \n",
       "1                                         176       3010          16245   \n",
       "\n",
       "yodle_package_initial_provisioning  Yodle_Web_Only  \n",
       "survived                                            \n",
       "0                                               10  \n",
       "1                                                5  "
      ]
     },
     "execution_count": 10,
     "metadata": {},
     "output_type": "execute_result"
    }
   ],
   "source": [
    "pd.crosstab(df['survived'],df['yodle_package_initial_provisioning'],rownames=['survived'],)"
   ]
  },
  {
   "cell_type": "markdown",
   "metadata": {},
   "source": [
    "### Plots"
   ]
  },
  {
   "cell_type": "code",
   "execution_count": 11,
   "metadata": {
    "collapsed": false
   },
   "outputs": [
    {
     "data": {
      "text/plain": [
       "<matplotlib.axes._subplots.AxesSubplot at 0x11857dfd0>"
      ]
     },
     "execution_count": 11,
     "metadata": {},
     "output_type": "execute_result"
    },
    {
     "data": {
      "image/png": "[encoded data removed]",
      "text/plain": [
       "<matplotlib.figure.Figure at 0x10514b810>"
      ]
     },
     "metadata": {},
     "output_type": "display_data"
    }
   ],
   "source": [
    "df.yodle_package_initial_provisioning.value_counts().plot(kind='bar', title =\"Package Count\")"
   ]
  },
  {
   "cell_type": "code",
   "execution_count": 12,
   "metadata": {
    "collapsed": false
   },
   "outputs": [
    {
     "data": {
      "text/plain": [
       "<matplotlib.axes._subplots.AxesSubplot at 0x1185e0bd0>"
      ]
     },
     "execution_count": 12,
     "metadata": {},
     "output_type": "execute_result"
    },
    {
     "data": {
      "image/png": "[encoded data removed]",
      "text/plain": [
       "<matplotlib.figure.Figure at 0x10ac92c50>"
      ]
     },
     "metadata": {},
     "output_type": "display_data"
    }
   ],
   "source": [
    "df.survived.value_counts().plot(kind='bar', title=\"Survival Count\")"
   ]
  },
  {
   "cell_type": "code",
   "execution_count": 13,
   "metadata": {
    "collapsed": false
   },
   "outputs": [
    {
     "data": {
      "text/plain": [
       "(0, 500)"
      ]
     },
     "execution_count": 13,
     "metadata": {},
     "output_type": "execute_result"
    },
    {
     "data": {
      "image/png": "[encoded data removed]",
      "text/plain": [
       "<matplotlib.figure.Figure at 0x1189fe390>"
      ]
     },
     "metadata": {},
     "output_type": "display_data"
    }
   ],
   "source": [
    "fig, axs = plt.subplots(1, 2, figsize=(10, 6))\n",
    "\n",
    "df.total_leads.plot(kind=\"box\", ax=axs[0])\n",
    "axs[0].set_ylim([0, 1000])\n",
    "\n",
    "df.monthly_recurring_revenue_initial.plot(kind=\"box\", ax=axs[1])\n",
    "axs[1].set_ylim([0, 500])"
   ]
  },
  {
   "cell_type": "code",
   "execution_count": 14,
   "metadata": {
    "collapsed": false
   },
   "outputs": [
    {
     "data": {
      "text/plain": [
       "<matplotlib.axes._subplots.AxesSubplot at 0x11c24db90>"
      ]
     },
     "execution_count": 14,
     "metadata": {},
     "output_type": "execute_result"
    },
    {
     "data": {
      "image/png": "[encoded data removed]",
      "text/plain": [
       "<matplotlib.figure.Figure at 0x118a23e90>"
      ]
     },
     "metadata": {},
     "output_type": "display_data"
    }
   ],
   "source": [
    "df.monthly_recurring_revenue_initial.plot(kind='density', xlim=(0,1000))"
   ]
  },
  {
   "cell_type": "code",
   "execution_count": 15,
   "metadata": {
    "collapsed": false
   },
   "outputs": [
    {
     "data": {
      "text/html": [
       "<div>\n",
       "<table border=\"1\" class=\"dataframe\">\n",
       "  <thead>\n",
       "    <tr style=\"text-align: right;\">\n",
       "      <th></th>\n",
       "      <th>survived</th>\n",
       "      <th>monthly_recurring_revenue_initial</th>\n",
       "      <th>total_leads</th>\n",
       "      <th>total_spend</th>\n",
       "    </tr>\n",
       "  </thead>\n",
       "  <tbody>\n",
       "    <tr>\n",
       "      <th>survived</th>\n",
       "      <td>1.000000</td>\n",
       "      <td>-0.004035</td>\n",
       "      <td>0.125501</td>\n",
       "      <td>0.048884</td>\n",
       "    </tr>\n",
       "    <tr>\n",
       "      <th>monthly_recurring_revenue_initial</th>\n",
       "      <td>-0.004035</td>\n",
       "      <td>1.000000</td>\n",
       "      <td>0.107255</td>\n",
       "      <td>0.585837</td>\n",
       "    </tr>\n",
       "    <tr>\n",
       "      <th>total_leads</th>\n",
       "      <td>0.125501</td>\n",
       "      <td>0.107255</td>\n",
       "      <td>1.000000</td>\n",
       "      <td>0.217169</td>\n",
       "    </tr>\n",
       "    <tr>\n",
       "      <th>total_spend</th>\n",
       "      <td>0.048884</td>\n",
       "      <td>0.585837</td>\n",
       "      <td>0.217169</td>\n",
       "      <td>1.000000</td>\n",
       "    </tr>\n",
       "  </tbody>\n",
       "</table>\n",
       "</div>"
      ],
      "text/plain": [
       "                                   survived  \\\n",
       "survived                           1.000000   \n",
       "monthly_recurring_revenue_initial -0.004035   \n",
       "total_leads                        0.125501   \n",
       "total_spend                        0.048884   \n",
       "\n",
       "                                   monthly_recurring_revenue_initial  \\\n",
       "survived                                                   -0.004035   \n",
       "monthly_recurring_revenue_initial                           1.000000   \n",
       "total_leads                                                 0.107255   \n",
       "total_spend                                                 0.585837   \n",
       "\n",
       "                                   total_leads  total_spend  \n",
       "survived                              0.125501     0.048884  \n",
       "monthly_recurring_revenue_initial     0.107255     0.585837  \n",
       "total_leads                           1.000000     0.217169  \n",
       "total_spend                           0.217169     1.000000  "
      ]
     },
     "execution_count": 15,
     "metadata": {},
     "output_type": "execute_result"
    },
    {
     "data": {
      "image/png": "[encoded data removed]",
      "text/plain": [
       "<matplotlib.figure.Figure at 0x118a678d0>"
      ]
     },
     "metadata": {},
     "output_type": "display_data"
    }
   ],
   "source": [
    "sns.heatmap(df.corr())\n",
    "df.corr()"
   ]
  },
  {
   "cell_type": "code",
   "execution_count": 16,
   "metadata": {
    "collapsed": false
   },
   "outputs": [
    {
     "data": {
      "text/plain": [
       "<seaborn.axisgrid.JointGrid at 0x11c3f5d50>"
      ]
     },
     "execution_count": 16,
     "metadata": {},
     "output_type": "execute_result"
    },
    {
     "data": {
      "image/png": "[encoded data removed]",
      "text/plain": [
       "<matplotlib.figure.Figure at 0x11c3f5b90>"
      ]
     },
     "metadata": {},
     "output_type": "display_data"
    }
   ],
   "source": [
    "sns.jointplot('monthly_recurring_revenue_initial','total_spend', data=df)"
   ]
  },
  {
   "cell_type": "code",
   "execution_count": 17,
   "metadata": {
    "collapsed": false
   },
   "outputs": [
    {
     "data": {
      "image/png": "[encoded data removed]",
      "text/plain": [
       "<matplotlib.figure.Figure at 0x11c4205d0>"
      ]
     },
     "metadata": {},
     "output_type": "display_data"
    }
   ],
   "source": [
    "pd.scatter_matrix(df[['total_leads','total_spend','monthly_recurring_revenue_initial','survived']], figsize=(10,8))\n",
    "plt.show()"
   ]
  },
  {
   "cell_type": "code",
   "execution_count": 18,
   "metadata": {
    "collapsed": false
   },
   "outputs": [
    {
     "data": {
      "text/html": [
       "<table class=\"simpletable\">\n",
       "<caption>OLS Regression Results</caption>\n",
       "<tr>\n",
       "  <th>Dep. Variable:</th>            <td>y</td>        <th>  R-squared:         </th>  <td>   0.047</td>  \n",
       "</tr>\n",
       "<tr>\n",
       "  <th>Model:</th>                   <td>OLS</td>       <th>  Adj. R-squared:    </th>  <td>   0.047</td>  \n",
       "</tr>\n",
       "<tr>\n",
       "  <th>Method:</th>             <td>Least Squares</td>  <th>  F-statistic:       </th>  <td>   2632.</td>  \n",
       "</tr>\n",
       "<tr>\n",
       "  <th>Date:</th>             <td>Sun, 28 Aug 2016</td> <th>  Prob (F-statistic):</th>   <td>  0.00</td>   \n",
       "</tr>\n",
       "<tr>\n",
       "  <th>Time:</th>                 <td>16:34:02</td>     <th>  Log-Likelihood:    </th> <td>-4.9734e+05</td>\n",
       "</tr>\n",
       "<tr>\n",
       "  <th>No. Observations:</th>      <td> 53177</td>      <th>  AIC:               </th>  <td>9.947e+05</td> \n",
       "</tr>\n",
       "<tr>\n",
       "  <th>Df Residuals:</th>          <td> 53175</td>      <th>  BIC:               </th>  <td>9.947e+05</td> \n",
       "</tr>\n",
       "<tr>\n",
       "  <th>Df Model:</th>              <td>     1</td>      <th>                     </th>      <td> </td>     \n",
       "</tr>\n",
       "<tr>\n",
       "  <th>Covariance Type:</th>      <td>nonrobust</td>    <th>                     </th>      <td> </td>     \n",
       "</tr>\n",
       "</table>\n",
       "<table class=\"simpletable\">\n",
       "<tr>\n",
       "      <td></td>         <th>coef</th>     <th>std err</th>      <th>t</th>      <th>P>|t|</th> <th>[95.0% Conf. Int.]</th> \n",
       "</tr>\n",
       "<tr>\n",
       "  <th>Intercept</th> <td>  384.5322</td> <td>   12.529</td> <td>   30.691</td> <td> 0.000</td> <td>  359.975   409.090</td>\n",
       "</tr>\n",
       "<tr>\n",
       "  <th>X</th>         <td>    1.1573</td> <td>    0.023</td> <td>   51.303</td> <td> 0.000</td> <td>    1.113     1.202</td>\n",
       "</tr>\n",
       "</table>\n",
       "<table class=\"simpletable\">\n",
       "<tr>\n",
       "  <th>Omnibus:</th>       <td>193076.792</td> <th>  Durbin-Watson:     </th>     <td>   1.900</td>    \n",
       "</tr>\n",
       "<tr>\n",
       "  <th>Prob(Omnibus):</th>   <td> 0.000</td>   <th>  Jarque-Bera (JB):  </th> <td>281900693570.459</td>\n",
       "</tr>\n",
       "<tr>\n",
       "  <th>Skew:</th>            <td>75.341</td>   <th>  Prob(JB):          </th>     <td>    0.00</td>    \n",
       "</tr>\n",
       "<tr>\n",
       "  <th>Kurtosis:</th>       <td>11281.544</td> <th>  Cond. No.          </th>     <td>    575.</td>    \n",
       "</tr>\n",
       "</table>"
      ],
      "text/plain": [
       "<class 'statsmodels.iolib.summary.Summary'>\n",
       "\"\"\"\n",
       "                            OLS Regression Results                            \n",
       "==============================================================================\n",
       "Dep. Variable:                      y   R-squared:                       0.047\n",
       "Model:                            OLS   Adj. R-squared:                  0.047\n",
       "Method:                 Least Squares   F-statistic:                     2632.\n",
       "Date:                Sun, 28 Aug 2016   Prob (F-statistic):               0.00\n",
       "Time:                        16:34:02   Log-Likelihood:            -4.9734e+05\n",
       "No. Observations:               53177   AIC:                         9.947e+05\n",
       "Df Residuals:                   53175   BIC:                         9.947e+05\n",
       "Df Model:                           1                                         \n",
       "Covariance Type:            nonrobust                                         \n",
       "==============================================================================\n",
       "                 coef    std err          t      P>|t|      [95.0% Conf. Int.]\n",
       "------------------------------------------------------------------------------\n",
       "Intercept    384.5322     12.529     30.691      0.000       359.975   409.090\n",
       "X              1.1573      0.023     51.303      0.000         1.113     1.202\n",
       "==============================================================================\n",
       "Omnibus:                   193076.792   Durbin-Watson:                   1.900\n",
       "Prob(Omnibus):                  0.000   Jarque-Bera (JB):     281900693570.459\n",
       "Skew:                          75.341   Prob(JB):                         0.00\n",
       "Kurtosis:                   11281.544   Cond. No.                         575.\n",
       "==============================================================================\n",
       "\n",
       "Warnings:\n",
       "[1] Standard Errors assume that the covariance matrix of the errors is correctly specified.\n",
       "\"\"\""
      ]
     },
     "execution_count": 18,
     "metadata": {},
     "output_type": "execute_result"
    }
   ],
   "source": [
    "X = df[['total_leads']]\n",
    "y = df['total_spend']\n",
    "\n",
    "lm = smf.ols(formula='y ~ X', data=df).fit()\n",
    "\n",
    "lm.summary()"
   ]
  },
  {
   "cell_type": "code",
   "execution_count": 19,
   "metadata": {
    "collapsed": false
   },
   "outputs": [
    {
     "data": {
      "text/plain": [
       "<seaborn.axisgrid.FacetGrid at 0x11d940910>"
      ]
     },
     "execution_count": 19,
     "metadata": {},
     "output_type": "execute_result"
    },
    {
     "data": {
      "image/png": "[encoded data removed]",
      "text/plain": [
       "<matplotlib.figure.Figure at 0x11f9572d0>"
      ]
     },
     "metadata": {},
     "output_type": "display_data"
    }
   ],
   "source": [
    "sns.lmplot('total_spend', 'total_leads', df_raw)"
   ]
  },
  {
   "cell_type": "markdown",
   "metadata": {},
   "source": [
    "## Calculating Odds Ratio"
   ]
  },
  {
   "cell_type": "code",
   "execution_count": 20,
   "metadata": {
    "collapsed": false
   },
   "outputs": [
    {
     "data": {
      "text/html": [
       "<div>\n",
       "<table border=\"1\" class=\"dataframe\">\n",
       "  <thead>\n",
       "    <tr style=\"text-align: right;\">\n",
       "      <th></th>\n",
       "      <th>survived</th>\n",
       "      <th>yodle_package_initial_provisioning</th>\n",
       "      <th>monthly_recurring_revenue_initial</th>\n",
       "      <th>total_leads</th>\n",
       "      <th>total_spend</th>\n",
       "    </tr>\n",
       "  </thead>\n",
       "  <tbody>\n",
       "    <tr>\n",
       "      <th>0</th>\n",
       "      <td>1</td>\n",
       "      <td>Yodle_Max</td>\n",
       "      <td>1249.0</td>\n",
       "      <td>570</td>\n",
       "      <td>7536.00</td>\n",
       "    </tr>\n",
       "    <tr>\n",
       "      <th>1</th>\n",
       "      <td>1</td>\n",
       "      <td>Yodle_Max</td>\n",
       "      <td>1249.0</td>\n",
       "      <td>812</td>\n",
       "      <td>0.00</td>\n",
       "    </tr>\n",
       "    <tr>\n",
       "      <th>2</th>\n",
       "      <td>0</td>\n",
       "      <td>Yodle_Max</td>\n",
       "      <td>699.0</td>\n",
       "      <td>216</td>\n",
       "      <td>391.13</td>\n",
       "    </tr>\n",
       "    <tr>\n",
       "      <th>3</th>\n",
       "      <td>1</td>\n",
       "      <td>Yodle_Organic</td>\n",
       "      <td>145.0</td>\n",
       "      <td>1029</td>\n",
       "      <td>0.00</td>\n",
       "    </tr>\n",
       "    <tr>\n",
       "      <th>4</th>\n",
       "      <td>1</td>\n",
       "      <td>Yodle_Organic</td>\n",
       "      <td>145.0</td>\n",
       "      <td>215</td>\n",
       "      <td>0.00</td>\n",
       "    </tr>\n",
       "  </tbody>\n",
       "</table>\n",
       "</div>"
      ],
      "text/plain": [
       "   survived yodle_package_initial_provisioning  \\\n",
       "0         1                          Yodle_Max   \n",
       "1         1                          Yodle_Max   \n",
       "2         0                          Yodle_Max   \n",
       "3         1                      Yodle_Organic   \n",
       "4         1                      Yodle_Organic   \n",
       "\n",
       "   monthly_recurring_revenue_initial  total_leads  total_spend  \n",
       "0                             1249.0          570      7536.00  \n",
       "1                             1249.0          812         0.00  \n",
       "2                              699.0          216       391.13  \n",
       "3                              145.0         1029         0.00  \n",
       "4                              145.0          215         0.00  "
      ]
     },
     "execution_count": 20,
     "metadata": {},
     "output_type": "execute_result"
    }
   ],
   "source": [
    "df.head()"
   ]
  },
  {
   "cell_type": "code",
   "execution_count": 21,
   "metadata": {
    "collapsed": false
   },
   "outputs": [],
   "source": [
    "df = df.join(pd.get_dummies(df.yodle_package_initial_provisioning).drop('Yodle_Web_Only',axis=1))"
   ]
  },
  {
   "cell_type": "code",
   "execution_count": 22,
   "metadata": {
    "collapsed": false
   },
   "outputs": [
    {
     "data": {
      "text/html": [
       "<div>\n",
       "<table border=\"1\" class=\"dataframe\">\n",
       "  <thead>\n",
       "    <tr style=\"text-align: right;\">\n",
       "      <th></th>\n",
       "      <th>survived</th>\n",
       "      <th>yodle_package_initial_provisioning</th>\n",
       "      <th>monthly_recurring_revenue_initial</th>\n",
       "      <th>total_leads</th>\n",
       "      <th>total_spend</th>\n",
       "      <th>Yodle_Ads</th>\n",
       "      <th>Yodle_Max</th>\n",
       "      <th>Yodle_Organic</th>\n",
       "    </tr>\n",
       "  </thead>\n",
       "  <tbody>\n",
       "    <tr>\n",
       "      <th>0</th>\n",
       "      <td>1</td>\n",
       "      <td>Yodle_Max</td>\n",
       "      <td>1249.0</td>\n",
       "      <td>570</td>\n",
       "      <td>7536.00</td>\n",
       "      <td>0.0</td>\n",
       "      <td>1.0</td>\n",
       "      <td>0.0</td>\n",
       "    </tr>\n",
       "    <tr>\n",
       "      <th>1</th>\n",
       "      <td>1</td>\n",
       "      <td>Yodle_Max</td>\n",
       "      <td>1249.0</td>\n",
       "      <td>812</td>\n",
       "      <td>0.00</td>\n",
       "      <td>0.0</td>\n",
       "      <td>1.0</td>\n",
       "      <td>0.0</td>\n",
       "    </tr>\n",
       "    <tr>\n",
       "      <th>2</th>\n",
       "      <td>0</td>\n",
       "      <td>Yodle_Max</td>\n",
       "      <td>699.0</td>\n",
       "      <td>216</td>\n",
       "      <td>391.13</td>\n",
       "      <td>0.0</td>\n",
       "      <td>1.0</td>\n",
       "      <td>0.0</td>\n",
       "    </tr>\n",
       "    <tr>\n",
       "      <th>3</th>\n",
       "      <td>1</td>\n",
       "      <td>Yodle_Organic</td>\n",
       "      <td>145.0</td>\n",
       "      <td>1029</td>\n",
       "      <td>0.00</td>\n",
       "      <td>0.0</td>\n",
       "      <td>0.0</td>\n",
       "      <td>1.0</td>\n",
       "    </tr>\n",
       "    <tr>\n",
       "      <th>4</th>\n",
       "      <td>1</td>\n",
       "      <td>Yodle_Organic</td>\n",
       "      <td>145.0</td>\n",
       "      <td>215</td>\n",
       "      <td>0.00</td>\n",
       "      <td>0.0</td>\n",
       "      <td>0.0</td>\n",
       "      <td>1.0</td>\n",
       "    </tr>\n",
       "  </tbody>\n",
       "</table>\n",
       "</div>"
      ],
      "text/plain": [
       "   survived yodle_package_initial_provisioning  \\\n",
       "0         1                          Yodle_Max   \n",
       "1         1                          Yodle_Max   \n",
       "2         0                          Yodle_Max   \n",
       "3         1                      Yodle_Organic   \n",
       "4         1                      Yodle_Organic   \n",
       "\n",
       "   monthly_recurring_revenue_initial  total_leads  total_spend  Yodle_Ads  \\\n",
       "0                             1249.0          570      7536.00        0.0   \n",
       "1                             1249.0          812         0.00        0.0   \n",
       "2                              699.0          216       391.13        0.0   \n",
       "3                              145.0         1029         0.00        0.0   \n",
       "4                              145.0          215         0.00        0.0   \n",
       "\n",
       "   Yodle_Max  Yodle_Organic  \n",
       "0        1.0            0.0  \n",
       "1        1.0            0.0  \n",
       "2        1.0            0.0  \n",
       "3        0.0            1.0  \n",
       "4        0.0            1.0  "
      ]
     },
     "execution_count": 22,
     "metadata": {},
     "output_type": "execute_result"
    }
   ],
   "source": [
    "df.head()"
   ]
  },
  {
   "cell_type": "code",
   "execution_count": 106,
   "metadata": {
    "collapsed": false
   },
   "outputs": [
    {
     "data": {
      "text/html": [
       "<div>\n",
       "<table border=\"1\" class=\"dataframe\">\n",
       "  <thead>\n",
       "    <tr style=\"text-align: right;\">\n",
       "      <th>yodle_package_initial_provisioning</th>\n",
       "      <th>Yodle_Organic</th>\n",
       "    </tr>\n",
       "    <tr>\n",
       "      <th>survived</th>\n",
       "      <th></th>\n",
       "    </tr>\n",
       "  </thead>\n",
       "  <tbody>\n",
       "    <tr>\n",
       "      <th>0</th>\n",
       "      <td>27964</td>\n",
       "    </tr>\n",
       "    <tr>\n",
       "      <th>1</th>\n",
       "      <td>16245</td>\n",
       "    </tr>\n",
       "  </tbody>\n",
       "</table>\n",
       "</div>"
      ],
      "text/plain": [
       "yodle_package_initial_provisioning  Yodle_Organic\n",
       "survived                                         \n",
       "0                                           27964\n",
       "1                                           16245"
      ]
     },
     "execution_count": 106,
     "metadata": {},
     "output_type": "execute_result"
    }
   ],
   "source": [
    "#calculate odds for an organic package\n",
    "k = pd.crosstab(df.survived, df.yodle_package_initial_provisioning, rownames=['survived']).iloc[:, 2:3]\n",
    "k"
   ]
  },
  {
   "cell_type": "code",
   "execution_count": 107,
   "metadata": {
    "collapsed": false
   },
   "outputs": [
    {
     "data": {
      "text/plain": [
       "0.58"
      ]
     },
     "execution_count": 107,
     "metadata": {},
     "output_type": "execute_result"
    }
   ],
   "source": [
    "#calculate odds of surviving if you are an organic package\n",
    "round(sum(k.loc[1])/float(sum(k.loc[0])),2)"
   ]
  },
  {
   "cell_type": "code",
   "execution_count": 108,
   "metadata": {
    "collapsed": false
   },
   "outputs": [
    {
     "data": {
      "text/html": [
       "<div>\n",
       "<table border=\"1\" class=\"dataframe\">\n",
       "  <thead>\n",
       "    <tr style=\"text-align: right;\">\n",
       "      <th>yodle_package_initial_provisioning</th>\n",
       "      <th>Yodle_Ads</th>\n",
       "    </tr>\n",
       "    <tr>\n",
       "      <th>survived</th>\n",
       "      <th></th>\n",
       "    </tr>\n",
       "  </thead>\n",
       "  <tbody>\n",
       "    <tr>\n",
       "      <th>0</th>\n",
       "      <td>194</td>\n",
       "    </tr>\n",
       "    <tr>\n",
       "      <th>1</th>\n",
       "      <td>176</td>\n",
       "    </tr>\n",
       "  </tbody>\n",
       "</table>\n",
       "</div>"
      ],
      "text/plain": [
       "yodle_package_initial_provisioning  Yodle_Ads\n",
       "survived                                     \n",
       "0                                         194\n",
       "1                                         176"
      ]
     },
     "execution_count": 108,
     "metadata": {},
     "output_type": "execute_result"
    }
   ],
   "source": [
    "#calculate odds if you are ads package\n",
    "k = pd.crosstab(df.survived, df.yodle_package_initial_provisioning, rownames=['survived']).iloc[:, 0:1]\n",
    "k"
   ]
  },
  {
   "cell_type": "code",
   "execution_count": 109,
   "metadata": {
    "collapsed": false
   },
   "outputs": [
    {
     "data": {
      "text/plain": [
       "0.91"
      ]
     },
     "execution_count": 109,
     "metadata": {},
     "output_type": "execute_result"
    }
   ],
   "source": [
    "#calculate odds\n",
    "round(sum(k.loc[1])/float(sum(k.loc[0])),2)"
   ]
  },
  {
   "cell_type": "code",
   "execution_count": 110,
   "metadata": {
    "collapsed": false
   },
   "outputs": [
    {
     "data": {
      "text/plain": [
       "0.6451612903225806"
      ]
     },
     "execution_count": 110,
     "metadata": {},
     "output_type": "execute_result"
    }
   ],
   "source": [
    "#calculate odds ratio\n",
    "0.6/0.93"
   ]
  },
  {
   "cell_type": "markdown",
   "metadata": {},
   "source": [
    "## Regression Analysis"
   ]
  },
  {
   "cell_type": "code",
   "execution_count": 111,
   "metadata": {
    "collapsed": false
   },
   "outputs": [
    {
     "data": {
      "text/html": [
       "<div>\n",
       "<table border=\"1\" class=\"dataframe\">\n",
       "  <thead>\n",
       "    <tr style=\"text-align: right;\">\n",
       "      <th></th>\n",
       "      <th>survived</th>\n",
       "      <th>yodle_package_initial_provisioning</th>\n",
       "      <th>monthly_recurring_revenue_initial</th>\n",
       "      <th>total_leads</th>\n",
       "      <th>total_spend</th>\n",
       "      <th>Yodle_Ads</th>\n",
       "      <th>Yodle_Max</th>\n",
       "      <th>Yodle_Organic</th>\n",
       "      <th>intercept</th>\n",
       "    </tr>\n",
       "  </thead>\n",
       "  <tbody>\n",
       "    <tr>\n",
       "      <th>0</th>\n",
       "      <td>1</td>\n",
       "      <td>Yodle_Max</td>\n",
       "      <td>1249</td>\n",
       "      <td>570</td>\n",
       "      <td>7536</td>\n",
       "      <td>0</td>\n",
       "      <td>1</td>\n",
       "      <td>0</td>\n",
       "      <td>1.0</td>\n",
       "    </tr>\n",
       "    <tr>\n",
       "      <th>1</th>\n",
       "      <td>1</td>\n",
       "      <td>Yodle_Max</td>\n",
       "      <td>1249</td>\n",
       "      <td>812</td>\n",
       "      <td>0</td>\n",
       "      <td>0</td>\n",
       "      <td>1</td>\n",
       "      <td>0</td>\n",
       "      <td>1.0</td>\n",
       "    </tr>\n",
       "    <tr>\n",
       "      <th>2</th>\n",
       "      <td>0</td>\n",
       "      <td>Yodle_Max</td>\n",
       "      <td>699</td>\n",
       "      <td>216</td>\n",
       "      <td>391</td>\n",
       "      <td>0</td>\n",
       "      <td>1</td>\n",
       "      <td>0</td>\n",
       "      <td>1.0</td>\n",
       "    </tr>\n",
       "    <tr>\n",
       "      <th>3</th>\n",
       "      <td>1</td>\n",
       "      <td>Yodle_Organic</td>\n",
       "      <td>145</td>\n",
       "      <td>1029</td>\n",
       "      <td>0</td>\n",
       "      <td>0</td>\n",
       "      <td>0</td>\n",
       "      <td>1</td>\n",
       "      <td>1.0</td>\n",
       "    </tr>\n",
       "    <tr>\n",
       "      <th>4</th>\n",
       "      <td>1</td>\n",
       "      <td>Yodle_Organic</td>\n",
       "      <td>145</td>\n",
       "      <td>215</td>\n",
       "      <td>0</td>\n",
       "      <td>0</td>\n",
       "      <td>0</td>\n",
       "      <td>1</td>\n",
       "      <td>1.0</td>\n",
       "    </tr>\n",
       "  </tbody>\n",
       "</table>\n",
       "</div>"
      ],
      "text/plain": [
       "   survived yodle_package_initial_provisioning  \\\n",
       "0         1                          Yodle_Max   \n",
       "1         1                          Yodle_Max   \n",
       "2         0                          Yodle_Max   \n",
       "3         1                      Yodle_Organic   \n",
       "4         1                      Yodle_Organic   \n",
       "\n",
       "   monthly_recurring_revenue_initial  total_leads  total_spend  Yodle_Ads  \\\n",
       "0                               1249          570         7536          0   \n",
       "1                               1249          812            0          0   \n",
       "2                                699          216          391          0   \n",
       "3                                145         1029            0          0   \n",
       "4                                145          215            0          0   \n",
       "\n",
       "   Yodle_Max  Yodle_Organic  intercept  \n",
       "0          1              0        1.0  \n",
       "1          1              0        1.0  \n",
       "2          1              0        1.0  \n",
       "3          0              1        1.0  \n",
       "4          0              1        1.0  "
      ]
     },
     "execution_count": 111,
     "metadata": {},
     "output_type": "execute_result"
    }
   ],
   "source": [
    "#manually add intercept\n",
    "df['intercept'] = 1.0 \n",
    "data = df\n",
    "data.head()"
   ]
  },
  {
   "cell_type": "code",
   "execution_count": 112,
   "metadata": {
    "collapsed": false
   },
   "outputs": [],
   "source": [
    "# set covariates to a variable called train_cols\n",
    "train_cols = data.columns[2:]\n",
    "\n",
    "logit = sm.Logit(data['survived'], data[train_cols])"
   ]
  },
  {
   "cell_type": "code",
   "execution_count": 113,
   "metadata": {
    "collapsed": false
   },
   "outputs": [
    {
     "name": "stdout",
     "output_type": "stream",
     "text": [
      "Optimization terminated successfully.\n",
      "         Current function value: 0.641382\n",
      "         Iterations 6\n"
     ]
    }
   ],
   "source": [
    "result = logit.fit()"
   ]
  },
  {
   "cell_type": "code",
   "execution_count": 114,
   "metadata": {
    "collapsed": false
   },
   "outputs": [
    {
     "name": "stdout",
     "output_type": "stream",
     "text": [
      "                           Logit Regression Results                           \n",
      "==============================================================================\n",
      "Dep. Variable:               survived   No. Observations:                53177\n",
      "Model:                          Logit   Df Residuals:                    53170\n",
      "Method:                           MLE   Df Model:                            6\n",
      "Date:                Mon, 29 Aug 2016   Pseudo R-squ.:                 0.02305\n",
      "Time:                        14:26:23   Log-Likelihood:                -34107.\n",
      "converged:                       True   LL-Null:                       -34912.\n",
      "                                        LLR p-value:                     0.000\n",
      "=====================================================================================================\n",
      "                                        coef    std err          z      P>|z|      [95.0% Conf. Int.]\n",
      "-----------------------------------------------------------------------------------------------------\n",
      "monthly_recurring_revenue_initial    -0.0002   4.82e-05     -4.290      0.000        -0.000    -0.000\n",
      "total_leads                           0.0011   3.96e-05     28.072      0.000         0.001     0.001\n",
      "total_spend                        4.863e-05   7.36e-06      6.605      0.000      3.42e-05  6.31e-05\n",
      "Yodle_Ads                             0.6178      0.590      1.047      0.295        -0.539     1.775\n",
      "Yodle_Max                             0.1406      0.581      0.242      0.809        -0.998     1.279\n",
      "Yodle_Organic                         0.3800      0.580      0.655      0.512        -0.756     1.516\n",
      "intercept                            -0.9935      0.580     -1.713      0.087        -2.130     0.143\n",
      "=====================================================================================================\n"
     ]
    }
   ],
   "source": [
    "print result.summary()"
   ]
  },
  {
   "cell_type": "code",
   "execution_count": 115,
   "metadata": {
    "collapsed": false
   },
   "outputs": [
    {
     "name": "stdout",
     "output_type": "stream",
     "text": [
      "                                       2.5%     97.5%        OR\n",
      "monthly_recurring_revenue_initial  0.999699  0.999888  0.999793\n",
      "total_leads                        1.001034  1.001189  1.001111\n",
      "total_spend                        1.000034  1.000063  1.000049\n",
      "Yodle_Ads                          0.583243  5.898951  1.854865\n",
      "Yodle_Max                          0.368775  3.592179  1.150959\n",
      "Yodle_Organic                      0.469439  4.554789  1.462257\n",
      "intercept                          0.118840  1.153751  0.370285\n"
     ]
    }
   ],
   "source": [
    "params = result.params\n",
    "conf = result.conf_int()\n",
    "conf['OR'] = params\n",
    "conf.columns = ['2.5%', '97.5%', 'OR']\n",
    "print np.exp(conf)"
   ]
  },
  {
   "cell_type": "markdown",
   "metadata": {},
   "source": [
    "## Classification with Logistic Regression"
   ]
  },
  {
   "cell_type": "code",
   "execution_count": 116,
   "metadata": {
    "collapsed": false
   },
   "outputs": [
    {
     "data": {
      "text/plain": [
       "Yodle_Organic\n",
       "0     8968\n",
       "1    44209\n",
       "dtype: int64"
      ]
     },
     "execution_count": 116,
     "metadata": {},
     "output_type": "execute_result"
    }
   ],
   "source": [
    "df.groupby('Yodle_Organic').size()"
   ]
  },
  {
   "cell_type": "code",
   "execution_count": 117,
   "metadata": {
    "collapsed": false
   },
   "outputs": [
    {
     "data": {
      "text/html": [
       "<div>\n",
       "<table border=\"1\" class=\"dataframe\">\n",
       "  <thead>\n",
       "    <tr style=\"text-align: right;\">\n",
       "      <th></th>\n",
       "      <th>survived</th>\n",
       "      <th>yodle_package_initial_provisioning</th>\n",
       "      <th>monthly_recurring_revenue_initial</th>\n",
       "      <th>total_leads</th>\n",
       "      <th>total_spend</th>\n",
       "      <th>Yodle_Ads</th>\n",
       "      <th>Yodle_Max</th>\n",
       "      <th>Yodle_Organic</th>\n",
       "      <th>intercept</th>\n",
       "    </tr>\n",
       "  </thead>\n",
       "  <tbody>\n",
       "    <tr>\n",
       "      <th>0</th>\n",
       "      <td>1</td>\n",
       "      <td>Yodle_Max</td>\n",
       "      <td>1249</td>\n",
       "      <td>570</td>\n",
       "      <td>7536</td>\n",
       "      <td>0</td>\n",
       "      <td>1</td>\n",
       "      <td>0</td>\n",
       "      <td>1.0</td>\n",
       "    </tr>\n",
       "    <tr>\n",
       "      <th>1</th>\n",
       "      <td>1</td>\n",
       "      <td>Yodle_Max</td>\n",
       "      <td>1249</td>\n",
       "      <td>812</td>\n",
       "      <td>0</td>\n",
       "      <td>0</td>\n",
       "      <td>1</td>\n",
       "      <td>0</td>\n",
       "      <td>1.0</td>\n",
       "    </tr>\n",
       "    <tr>\n",
       "      <th>2</th>\n",
       "      <td>0</td>\n",
       "      <td>Yodle_Max</td>\n",
       "      <td>699</td>\n",
       "      <td>216</td>\n",
       "      <td>391</td>\n",
       "      <td>0</td>\n",
       "      <td>1</td>\n",
       "      <td>0</td>\n",
       "      <td>1.0</td>\n",
       "    </tr>\n",
       "    <tr>\n",
       "      <th>3</th>\n",
       "      <td>1</td>\n",
       "      <td>Yodle_Organic</td>\n",
       "      <td>145</td>\n",
       "      <td>1029</td>\n",
       "      <td>0</td>\n",
       "      <td>0</td>\n",
       "      <td>0</td>\n",
       "      <td>1</td>\n",
       "      <td>1.0</td>\n",
       "    </tr>\n",
       "    <tr>\n",
       "      <th>4</th>\n",
       "      <td>1</td>\n",
       "      <td>Yodle_Organic</td>\n",
       "      <td>145</td>\n",
       "      <td>215</td>\n",
       "      <td>0</td>\n",
       "      <td>0</td>\n",
       "      <td>0</td>\n",
       "      <td>1</td>\n",
       "      <td>1.0</td>\n",
       "    </tr>\n",
       "  </tbody>\n",
       "</table>\n",
       "</div>"
      ],
      "text/plain": [
       "   survived yodle_package_initial_provisioning  \\\n",
       "0         1                          Yodle_Max   \n",
       "1         1                          Yodle_Max   \n",
       "2         0                          Yodle_Max   \n",
       "3         1                      Yodle_Organic   \n",
       "4         1                      Yodle_Organic   \n",
       "\n",
       "   monthly_recurring_revenue_initial  total_leads  total_spend  Yodle_Ads  \\\n",
       "0                               1249          570         7536          0   \n",
       "1                               1249          812            0          0   \n",
       "2                                699          216          391          0   \n",
       "3                                145         1029            0          0   \n",
       "4                                145          215            0          0   \n",
       "\n",
       "   Yodle_Max  Yodle_Organic  intercept  \n",
       "0          1              0        1.0  \n",
       "1          1              0        1.0  \n",
       "2          1              0        1.0  \n",
       "3          0              1        1.0  \n",
       "4          0              1        1.0  "
      ]
     },
     "execution_count": 117,
     "metadata": {},
     "output_type": "execute_result"
    }
   ],
   "source": [
    "df.head()"
   ]
  },
  {
   "cell_type": "code",
   "execution_count": 118,
   "metadata": {
    "collapsed": true
   },
   "outputs": [],
   "source": [
    "#use these features for classification\n",
    "features  = ['monthly_recurring_revenue_initial','total_leads','total_spend','Yodle_Ads','Yodle_Max','Yodle_Organic']"
   ]
  },
  {
   "cell_type": "code",
   "execution_count": 119,
   "metadata": {
    "collapsed": false
   },
   "outputs": [
    {
     "data": {
      "text/html": [
       "<div>\n",
       "<table border=\"1\" class=\"dataframe\">\n",
       "  <thead>\n",
       "    <tr style=\"text-align: right;\">\n",
       "      <th></th>\n",
       "      <th>survived</th>\n",
       "      <th>yodle_package_initial_provisioning</th>\n",
       "      <th>monthly_recurring_revenue_initial</th>\n",
       "      <th>total_leads</th>\n",
       "      <th>total_spend</th>\n",
       "      <th>Yodle_Ads</th>\n",
       "      <th>Yodle_Max</th>\n",
       "      <th>Yodle_Organic</th>\n",
       "      <th>intercept</th>\n",
       "    </tr>\n",
       "  </thead>\n",
       "  <tbody>\n",
       "    <tr>\n",
       "      <th>0</th>\n",
       "      <td>1</td>\n",
       "      <td>Yodle_Max</td>\n",
       "      <td>1249</td>\n",
       "      <td>570</td>\n",
       "      <td>7536</td>\n",
       "      <td>0</td>\n",
       "      <td>1</td>\n",
       "      <td>0</td>\n",
       "      <td>1.0</td>\n",
       "    </tr>\n",
       "    <tr>\n",
       "      <th>1</th>\n",
       "      <td>1</td>\n",
       "      <td>Yodle_Max</td>\n",
       "      <td>1249</td>\n",
       "      <td>812</td>\n",
       "      <td>0</td>\n",
       "      <td>0</td>\n",
       "      <td>1</td>\n",
       "      <td>0</td>\n",
       "      <td>1.0</td>\n",
       "    </tr>\n",
       "    <tr>\n",
       "      <th>2</th>\n",
       "      <td>0</td>\n",
       "      <td>Yodle_Max</td>\n",
       "      <td>699</td>\n",
       "      <td>216</td>\n",
       "      <td>391</td>\n",
       "      <td>0</td>\n",
       "      <td>1</td>\n",
       "      <td>0</td>\n",
       "      <td>1.0</td>\n",
       "    </tr>\n",
       "    <tr>\n",
       "      <th>3</th>\n",
       "      <td>1</td>\n",
       "      <td>Yodle_Organic</td>\n",
       "      <td>145</td>\n",
       "      <td>1029</td>\n",
       "      <td>0</td>\n",
       "      <td>0</td>\n",
       "      <td>0</td>\n",
       "      <td>1</td>\n",
       "      <td>1.0</td>\n",
       "    </tr>\n",
       "    <tr>\n",
       "      <th>4</th>\n",
       "      <td>1</td>\n",
       "      <td>Yodle_Organic</td>\n",
       "      <td>145</td>\n",
       "      <td>215</td>\n",
       "      <td>0</td>\n",
       "      <td>0</td>\n",
       "      <td>0</td>\n",
       "      <td>1</td>\n",
       "      <td>1.0</td>\n",
       "    </tr>\n",
       "  </tbody>\n",
       "</table>\n",
       "</div>"
      ],
      "text/plain": [
       "   survived yodle_package_initial_provisioning  \\\n",
       "0         1                          Yodle_Max   \n",
       "1         1                          Yodle_Max   \n",
       "2         0                          Yodle_Max   \n",
       "3         1                      Yodle_Organic   \n",
       "4         1                      Yodle_Organic   \n",
       "\n",
       "   monthly_recurring_revenue_initial  total_leads  total_spend  Yodle_Ads  \\\n",
       "0                               1249          570         7536          0   \n",
       "1                               1249          812            0          0   \n",
       "2                                699          216          391          0   \n",
       "3                                145         1029            0          0   \n",
       "4                                145          215            0          0   \n",
       "\n",
       "   Yodle_Max  Yodle_Organic  intercept  \n",
       "0          1              0        1.0  \n",
       "1          1              0        1.0  \n",
       "2          1              0        1.0  \n",
       "3          0              1        1.0  \n",
       "4          0              1        1.0  "
      ]
     },
     "execution_count": 119,
     "metadata": {},
     "output_type": "execute_result"
    }
   ],
   "source": [
    "df.head()"
   ]
  },
  {
   "cell_type": "code",
   "execution_count": 120,
   "metadata": {
    "collapsed": false
   },
   "outputs": [
    {
     "data": {
      "text/plain": [
       "LogisticRegression(C=1.0, class_weight=None, dual=False, fit_intercept=True,\n",
       "          intercept_scaling=1, max_iter=100, multi_class='ovr', n_jobs=1,\n",
       "          penalty='l2', random_state=None, solver='liblinear', tol=0.0001,\n",
       "          verbose=0, warm_start=False)"
      ]
     },
     "execution_count": 120,
     "metadata": {},
     "output_type": "execute_result"
    }
   ],
   "source": [
    "lr = LogisticRegression()\n",
    "lr.fit(df[features], df.survived)"
   ]
  },
  {
   "cell_type": "code",
   "execution_count": 121,
   "metadata": {
    "collapsed": true
   },
   "outputs": [],
   "source": [
    "X, y = df[features], df.survived"
   ]
  },
  {
   "cell_type": "code",
   "execution_count": 122,
   "metadata": {
    "collapsed": false,
    "scrolled": true
   },
   "outputs": [
    {
     "name": "stdout",
     "output_type": "stream",
     "text": [
      "0.65272579321\n"
     ]
    }
   ],
   "source": [
    "#use k-fold cross validation with k=10\n",
    "#calculate mean test set accuracy of LogisticRegression using all features to predict survival\n",
    "kf = KFold(len(df),n_folds=10,shuffle=True)\n",
    "scores = []\n",
    "\n",
    "for train, test in kf:\n",
    "    \n",
    "    Xtrain = X.iloc[train]\n",
    "    ytrain = y.iloc[train]\n",
    "    Xtest = X.iloc[test]\n",
    "    ytest = y.iloc[test]\n",
    "    \n",
    "    lr = LogisticRegression()\n",
    "    lr.fit(Xtrain, ytrain)\n",
    "    \n",
    "    scores.append(lr.score(Xtest, ytest))\n",
    "    \n",
    "print np.mean(scores)"
   ]
  },
  {
   "cell_type": "code",
   "execution_count": 123,
   "metadata": {
    "collapsed": false
   },
   "outputs": [
    {
     "name": "stdout",
     "output_type": "stream",
     "text": [
      "(47859, 5318)\n",
      "(47859, 5318)\n",
      "(47859, 5318)\n",
      "(47859, 5318)\n",
      "(47859, 5318)\n",
      "(47859, 5318)\n",
      "(47859, 5318)\n",
      "(47860, 5317)\n",
      "(47860, 5317)\n",
      "(47860, 5317)\n"
     ]
    }
   ],
   "source": [
    "for tr, te in kf:\n",
    "    print(len(tr), len(te))"
   ]
  },
  {
   "cell_type": "code",
   "execution_count": 124,
   "metadata": {
    "collapsed": false
   },
   "outputs": [
    {
     "data": {
      "text/plain": [
       "[0.6515607371192178,\n",
       " 0.64422715306506206,\n",
       " 0.6632192553591576,\n",
       " 0.66133884919142538,\n",
       " 0.65137269650244456,\n",
       " 0.6434749905979692,\n",
       " 0.65438134637081613,\n",
       " 0.65243558397592627,\n",
       " 0.65694940756065445,\n",
       " 0.64829791235659207]"
      ]
     },
     "execution_count": 124,
     "metadata": {},
     "output_type": "execute_result"
    }
   ],
   "source": [
    "scores"
   ]
  },
  {
   "cell_type": "markdown",
   "metadata": {},
   "source": [
    "## Classifiction with KNN"
   ]
  },
  {
   "cell_type": "code",
   "execution_count": 130,
   "metadata": {
    "collapsed": false
   },
   "outputs": [
    {
     "data": {
      "text/plain": [
       "GridSearchCV(cv=sklearn.cross_validation.KFold(n=53177, n_folds=10, shuffle=True, random_state=None),\n",
       "       error_score='raise',\n",
       "       estimator=KNeighborsClassifier(algorithm='auto', leaf_size=30, metric='minkowski',\n",
       "           metric_params=None, n_jobs=1, n_neighbors=5, p=2,\n",
       "           weights='uniform'),\n",
       "       fit_params={}, iid=True, n_jobs=1,\n",
       "       param_grid={'n_neighbors': [3, 5, 7, 9], 'weights': ['distance']},\n",
       "       pre_dispatch='2*n_jobs', refit=True, scoring=None, verbose=0)"
      ]
     },
     "execution_count": 130,
     "metadata": {},
     "output_type": "execute_result"
    }
   ],
   "source": [
    "params = {'n_neighbors': range(3,10,2),\n",
    "          'weights': ['distance']}\n",
    "gs = GridSearchCV(KNeighborsClassifier(),params,cv=kf)\n",
    "gs.fit(df[features],df.survived)"
   ]
  },
  {
   "cell_type": "code",
   "execution_count": null,
   "metadata": {
    "collapsed": true
   },
   "outputs": [],
   "source": []
  }
 ],
 "metadata": {
  "kernelspec": {
   "display_name": "Python 2",
   "language": "python",
   "name": "python2"
  },
  "language_info": {
   "codemirror_mode": {
    "name": "ipython",
    "version": 2
   },
   "file_extension": ".py",
   "mimetype": "text/x-python",
   "name": "python",
   "nbconvert_exporter": "python",
   "pygments_lexer": "ipython2",
   "version": "2.7.11"
  }
 },
 "nbformat": 4,
 "nbformat_minor": 0
}
